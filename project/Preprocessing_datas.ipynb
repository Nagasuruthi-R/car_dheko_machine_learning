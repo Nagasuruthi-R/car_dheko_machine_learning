{
 "cells": [
  {
   "cell_type": "code",
   "execution_count": 130,
   "metadata": {},
   "outputs": [
    {
     "ename": "ModuleNotFoundError",
     "evalue": "No module named 'sklearn'",
     "output_type": "error",
     "traceback": [
      "\u001b[1;31m---------------------------------------------------------------------------\u001b[0m",
      "\u001b[1;31mModuleNotFoundError\u001b[0m                       Traceback (most recent call last)",
      "Cell \u001b[1;32mIn[130], line 4\u001b[0m\n\u001b[0;32m      2\u001b[0m \u001b[38;5;28;01mimport\u001b[39;00m \u001b[38;5;21;01mnumpy\u001b[39;00m \u001b[38;5;28;01mas\u001b[39;00m \u001b[38;5;21;01mnp\u001b[39;00m\n\u001b[0;32m      3\u001b[0m \u001b[38;5;28;01mimport\u001b[39;00m \u001b[38;5;21;01mre\u001b[39;00m\n\u001b[1;32m----> 4\u001b[0m \u001b[38;5;28;01mfrom\u001b[39;00m \u001b[38;5;21;01msklearn\u001b[39;00m\u001b[38;5;21;01m.\u001b[39;00m\u001b[38;5;21;01mpreprocessing\u001b[39;00m \u001b[38;5;28;01mimport\u001b[39;00m OneHotEncoder\n",
      "\u001b[1;31mModuleNotFoundError\u001b[0m: No module named 'sklearn'"
     ]
    }
   ],
   "source": [
    "import pandas as pd\n",
    "import numpy as np\n",
    "import re\n",
    "from sklearn.preprocessing import OneHotEncoder"
   ]
  },
  {
   "cell_type": "markdown",
   "metadata": {},
   "source": [
    "***Bangalore City Cars***"
   ]
  },
  {
   "cell_type": "code",
   "execution_count": 3,
   "metadata": {},
   "outputs": [],
   "source": [
    "#df = glob.glob(os.path.join('../cleaned_data/bangalore.xlsx'))\n",
    "df= pd.read_excel('../cleaned_data/bangalore_cars_cleaned.xlsx')"
   ]
  },
  {
   "cell_type": "code",
   "execution_count": 4,
   "metadata": {},
   "outputs": [
    {
     "data": {
      "text/plain": [
       "Insurance_Validity_Period           object\n",
       "Fuel_Type                           object\n",
       "Number_of_Seats                     object\n",
       "Regional_Transport_Office           object\n",
       "Transmission_Type                   object\n",
       "Top_Features                        object\n",
       "Comfort_and_Convenience             object\n",
       "Interior_Features                   object\n",
       "Exterior_Features                   object\n",
       "Safety_Features                     object\n",
       "Entertainment_and_Communication     object\n",
       "Mileage_(km/l)                      object\n",
       "Engine_Capacity                     object\n",
       "Maximum_Power                       object\n",
       "Torque                              object\n",
       "Wheel_Size                          object\n",
       "Battery_Type                        object\n",
       "Kilometers_Driven                   object\n",
       "Number_of_Owners                     int64\n",
       "Original_Equipment_Manufacturer     object\n",
       "Car_Model                           object\n",
       "Model_Year                           int64\n",
       "Central_Variant_ID                   int64\n",
       "Variant_Name                        object\n",
       "Listed_Price                       float64\n",
       "Actual_Price                       float64\n",
       "city                                object\n",
       "dtype: object"
      ]
     },
     "execution_count": 4,
     "metadata": {},
     "output_type": "execute_result"
    }
   ],
   "source": [
    "df.dtypes"
   ]
  },
  {
   "cell_type": "markdown",
   "metadata": {},
   "source": [
    "***Cleaned column 'Insurance_Validity_Period' from bangalore***"
   ]
  },
  {
   "cell_type": "code",
   "execution_count": 5,
   "metadata": {},
   "outputs": [
    {
     "data": {
      "text/plain": [
       "array(['Third Party insurance', 'Comprehensive', 'Third Party',\n",
       "       'Zero Dep', nan, '2', '1', 'Not Available'], dtype=object)"
      ]
     },
     "execution_count": 5,
     "metadata": {},
     "output_type": "execute_result"
    }
   ],
   "source": [
    "df['Insurance_Validity_Period'].unique()"
   ]
  },
  {
   "cell_type": "code",
   "execution_count": 6,
   "metadata": {},
   "outputs": [
    {
     "data": {
      "text/plain": [
       "np.int64(5)"
      ]
     },
     "execution_count": 6,
     "metadata": {},
     "output_type": "execute_result"
    }
   ],
   "source": [
    "check =df['Insurance_Validity_Period'].isin(['Not Available']).sum()\n",
    "check"
   ]
  },
  {
   "cell_type": "code",
   "execution_count": 7,
   "metadata": {},
   "outputs": [],
   "source": [
    "df['Insurance_Validity_Period']=df['Insurance_Validity_Period'].replace({\n",
    "    'Third Party insurance':'Third Party',\n",
    "    'Zero Dep':'Zero Depreciation',\n",
    "    np.nan:'Unknown',\n",
    "    'Not Available': 'Unknown',\n",
    "    '1': 'One Year',\n",
    "    '2':'Two Years'\n",
    "})"
   ]
  },
  {
   "cell_type": "code",
   "execution_count": 8,
   "metadata": {},
   "outputs": [
    {
     "data": {
      "text/plain": [
       "array(['Third Party', 'Comprehensive', 'Zero Depreciation', 'Unknown',\n",
       "       'Two Years', 'One Year'], dtype=object)"
      ]
     },
     "execution_count": 8,
     "metadata": {},
     "output_type": "execute_result"
    }
   ],
   "source": [
    "#df[df['Insurance_Validity_Period'].isin(['Not Available', '1', '2'])\n",
    "df['Insurance_Validity_Period'].unique()"
   ]
  },
  {
   "cell_type": "code",
   "execution_count": 9,
   "metadata": {},
   "outputs": [
    {
     "data": {
      "text/plain": [
       "array(['Petrol', 'Diesel', 'LPG', 'CNG', 'Electric'], dtype=object)"
      ]
     },
     "execution_count": 9,
     "metadata": {},
     "output_type": "execute_result"
    }
   ],
   "source": [
    "df['Fuel_Type'].unique()"
   ]
  },
  {
   "cell_type": "code",
   "execution_count": 10,
   "metadata": {},
   "outputs": [
    {
     "data": {
      "text/plain": [
       "np.int64(0)"
      ]
     },
     "execution_count": 10,
     "metadata": {},
     "output_type": "execute_result"
    }
   ],
   "source": [
    "df['Fuel_Type'].isnull().sum()"
   ]
  },
  {
   "cell_type": "code",
   "execution_count": 11,
   "metadata": {},
   "outputs": [
    {
     "data": {
      "text/html": [
       "<div>\n",
       "<style scoped>\n",
       "    .dataframe tbody tr th:only-of-type {\n",
       "        vertical-align: middle;\n",
       "    }\n",
       "\n",
       "    .dataframe tbody tr th {\n",
       "        vertical-align: top;\n",
       "    }\n",
       "\n",
       "    .dataframe thead th {\n",
       "        text-align: right;\n",
       "    }\n",
       "</style>\n",
       "<table border=\"1\" class=\"dataframe\">\n",
       "  <thead>\n",
       "    <tr style=\"text-align: right;\">\n",
       "      <th></th>\n",
       "      <th>Insurance_Validity_Period</th>\n",
       "      <th>Fuel_Type</th>\n",
       "      <th>Number_of_Seats</th>\n",
       "      <th>Regional_Transport_Office</th>\n",
       "      <th>Transmission_Type</th>\n",
       "      <th>Top_Features</th>\n",
       "      <th>Comfort_and_Convenience</th>\n",
       "      <th>Interior_Features</th>\n",
       "      <th>Exterior_Features</th>\n",
       "      <th>Safety_Features</th>\n",
       "      <th>...</th>\n",
       "      <th>Kilometers_Driven</th>\n",
       "      <th>Number_of_Owners</th>\n",
       "      <th>Original_Equipment_Manufacturer</th>\n",
       "      <th>Car_Model</th>\n",
       "      <th>Model_Year</th>\n",
       "      <th>Central_Variant_ID</th>\n",
       "      <th>Variant_Name</th>\n",
       "      <th>Listed_Price</th>\n",
       "      <th>Actual_Price</th>\n",
       "      <th>city</th>\n",
       "    </tr>\n",
       "  </thead>\n",
       "  <tbody>\n",
       "    <tr>\n",
       "      <th>0</th>\n",
       "      <td>Third Party</td>\n",
       "      <td>Petrol</td>\n",
       "      <td>5 Seats</td>\n",
       "      <td>KA51</td>\n",
       "      <td>Manual</td>\n",
       "      <td>['Power Steering', 'Power Windows Front', 'Air...</td>\n",
       "      <td>['Power Steering', 'Power Windows Front', 'Pow...</td>\n",
       "      <td>['Air Conditioner', 'Heater', 'Digital Odomete...</td>\n",
       "      <td>['Adjustable Head Lights', 'Manually Adjustabl...</td>\n",
       "      <td>['Centeral Locking', 'Child Safety Locks', 'Da...</td>\n",
       "      <td>...</td>\n",
       "      <td>1,20,000</td>\n",
       "      <td>3</td>\n",
       "      <td>Maruti</td>\n",
       "      <td>Maruti Celerio</td>\n",
       "      <td>2015</td>\n",
       "      <td>3979</td>\n",
       "      <td>VXI</td>\n",
       "      <td>400000.0</td>\n",
       "      <td>427093.247588</td>\n",
       "      <td>bangalore</td>\n",
       "    </tr>\n",
       "    <tr>\n",
       "      <th>1</th>\n",
       "      <td>Comprehensive</td>\n",
       "      <td>Petrol</td>\n",
       "      <td>5 Seats</td>\n",
       "      <td>KA05</td>\n",
       "      <td>Manual</td>\n",
       "      <td>['Power Steering', 'Power Windows Front', 'Air...</td>\n",
       "      <td>['Power Steering', 'Power Windows Front', 'Pow...</td>\n",
       "      <td>['Air Conditioner', 'Heater', 'Adjustable Stee...</td>\n",
       "      <td>['Adjustable Head Lights', 'Fog Lights Front',...</td>\n",
       "      <td>['Anti Lock Braking System', 'Centeral Locking...</td>\n",
       "      <td>...</td>\n",
       "      <td>32,706</td>\n",
       "      <td>2</td>\n",
       "      <td>Ford</td>\n",
       "      <td>Ford Ecosport</td>\n",
       "      <td>2018</td>\n",
       "      <td>6087</td>\n",
       "      <td>1.5 Petrol Titanium BSIV</td>\n",
       "      <td>811000.0</td>\n",
       "      <td>838093.247588</td>\n",
       "      <td>bangalore</td>\n",
       "    </tr>\n",
       "    <tr>\n",
       "      <th>2</th>\n",
       "      <td>Comprehensive</td>\n",
       "      <td>Petrol</td>\n",
       "      <td>5 Seats</td>\n",
       "      <td>KA03</td>\n",
       "      <td>Manual</td>\n",
       "      <td>['Power Steering', 'Power Windows Front', 'Air...</td>\n",
       "      <td>['Power Steering', 'Power Windows Front', 'Pow...</td>\n",
       "      <td>['Air Conditioner', 'Heater', 'Adjustable Stee...</td>\n",
       "      <td>['Adjustable Head Lights', 'Fog Lights Front',...</td>\n",
       "      <td>['Anti Lock Braking System', 'Centeral Locking...</td>\n",
       "      <td>...</td>\n",
       "      <td>11,949</td>\n",
       "      <td>1</td>\n",
       "      <td>Tata</td>\n",
       "      <td>Tata Tiago</td>\n",
       "      <td>2018</td>\n",
       "      <td>2983</td>\n",
       "      <td>1.2 Revotron XZ</td>\n",
       "      <td>585000.0</td>\n",
       "      <td>612093.247588</td>\n",
       "      <td>bangalore</td>\n",
       "    </tr>\n",
       "    <tr>\n",
       "      <th>3</th>\n",
       "      <td>Comprehensive</td>\n",
       "      <td>Petrol</td>\n",
       "      <td>5 Seats</td>\n",
       "      <td>KA53</td>\n",
       "      <td>Manual</td>\n",
       "      <td>['Power Steering', 'Power Windows Front', 'Air...</td>\n",
       "      <td>['Power Steering', 'Power Windows Front', 'Pow...</td>\n",
       "      <td>['Air Conditioner', 'Heater', 'Adjustable Stee...</td>\n",
       "      <td>['Adjustable Head Lights', 'Fog Lights Front',...</td>\n",
       "      <td>['Anti Lock Braking System', 'Centeral Locking...</td>\n",
       "      <td>...</td>\n",
       "      <td>17,794</td>\n",
       "      <td>1</td>\n",
       "      <td>Hyundai</td>\n",
       "      <td>Hyundai Xcent</td>\n",
       "      <td>2014</td>\n",
       "      <td>1867</td>\n",
       "      <td>1.2 Kappa S Option</td>\n",
       "      <td>462000.0</td>\n",
       "      <td>489093.247588</td>\n",
       "      <td>bangalore</td>\n",
       "    </tr>\n",
       "    <tr>\n",
       "      <th>4</th>\n",
       "      <td>Third Party</td>\n",
       "      <td>Diesel</td>\n",
       "      <td>5 Seats</td>\n",
       "      <td>KA04</td>\n",
       "      <td>Manual</td>\n",
       "      <td>['Power Steering', 'Power Windows Front', 'Air...</td>\n",
       "      <td>['Power Steering', 'Power Windows Front', 'Pow...</td>\n",
       "      <td>['Air Conditioner', 'Heater', 'Adjustable Stee...</td>\n",
       "      <td>['Adjustable Head Lights', 'Fog Lights Front',...</td>\n",
       "      <td>['Anti Lock Braking System', 'Centeral Locking...</td>\n",
       "      <td>...</td>\n",
       "      <td>60,000</td>\n",
       "      <td>1</td>\n",
       "      <td>Maruti</td>\n",
       "      <td>Maruti SX4 S Cross</td>\n",
       "      <td>2015</td>\n",
       "      <td>4277</td>\n",
       "      <td>DDiS 200 Zeta</td>\n",
       "      <td>790000.0</td>\n",
       "      <td>817093.247588</td>\n",
       "      <td>bangalore</td>\n",
       "    </tr>\n",
       "  </tbody>\n",
       "</table>\n",
       "<p>5 rows × 27 columns</p>\n",
       "</div>"
      ],
      "text/plain": [
       "  Insurance_Validity_Period Fuel_Type Number_of_Seats  \\\n",
       "0               Third Party    Petrol         5 Seats   \n",
       "1             Comprehensive    Petrol         5 Seats   \n",
       "2             Comprehensive    Petrol         5 Seats   \n",
       "3             Comprehensive    Petrol         5 Seats   \n",
       "4               Third Party    Diesel         5 Seats   \n",
       "\n",
       "  Regional_Transport_Office Transmission_Type  \\\n",
       "0                      KA51            Manual   \n",
       "1                      KA05            Manual   \n",
       "2                      KA03            Manual   \n",
       "3                      KA53            Manual   \n",
       "4                      KA04            Manual   \n",
       "\n",
       "                                        Top_Features  \\\n",
       "0  ['Power Steering', 'Power Windows Front', 'Air...   \n",
       "1  ['Power Steering', 'Power Windows Front', 'Air...   \n",
       "2  ['Power Steering', 'Power Windows Front', 'Air...   \n",
       "3  ['Power Steering', 'Power Windows Front', 'Air...   \n",
       "4  ['Power Steering', 'Power Windows Front', 'Air...   \n",
       "\n",
       "                             Comfort_and_Convenience  \\\n",
       "0  ['Power Steering', 'Power Windows Front', 'Pow...   \n",
       "1  ['Power Steering', 'Power Windows Front', 'Pow...   \n",
       "2  ['Power Steering', 'Power Windows Front', 'Pow...   \n",
       "3  ['Power Steering', 'Power Windows Front', 'Pow...   \n",
       "4  ['Power Steering', 'Power Windows Front', 'Pow...   \n",
       "\n",
       "                                   Interior_Features  \\\n",
       "0  ['Air Conditioner', 'Heater', 'Digital Odomete...   \n",
       "1  ['Air Conditioner', 'Heater', 'Adjustable Stee...   \n",
       "2  ['Air Conditioner', 'Heater', 'Adjustable Stee...   \n",
       "3  ['Air Conditioner', 'Heater', 'Adjustable Stee...   \n",
       "4  ['Air Conditioner', 'Heater', 'Adjustable Stee...   \n",
       "\n",
       "                                   Exterior_Features  \\\n",
       "0  ['Adjustable Head Lights', 'Manually Adjustabl...   \n",
       "1  ['Adjustable Head Lights', 'Fog Lights Front',...   \n",
       "2  ['Adjustable Head Lights', 'Fog Lights Front',...   \n",
       "3  ['Adjustable Head Lights', 'Fog Lights Front',...   \n",
       "4  ['Adjustable Head Lights', 'Fog Lights Front',...   \n",
       "\n",
       "                                     Safety_Features  ... Kilometers_Driven  \\\n",
       "0  ['Centeral Locking', 'Child Safety Locks', 'Da...  ...          1,20,000   \n",
       "1  ['Anti Lock Braking System', 'Centeral Locking...  ...            32,706   \n",
       "2  ['Anti Lock Braking System', 'Centeral Locking...  ...            11,949   \n",
       "3  ['Anti Lock Braking System', 'Centeral Locking...  ...            17,794   \n",
       "4  ['Anti Lock Braking System', 'Centeral Locking...  ...            60,000   \n",
       "\n",
       "  Number_of_Owners Original_Equipment_Manufacturer           Car_Model  \\\n",
       "0                3                          Maruti      Maruti Celerio   \n",
       "1                2                            Ford       Ford Ecosport   \n",
       "2                1                            Tata          Tata Tiago   \n",
       "3                1                         Hyundai       Hyundai Xcent   \n",
       "4                1                          Maruti  Maruti SX4 S Cross   \n",
       "\n",
       "  Model_Year Central_Variant_ID              Variant_Name Listed_Price  \\\n",
       "0       2015               3979                       VXI     400000.0   \n",
       "1       2018               6087  1.5 Petrol Titanium BSIV     811000.0   \n",
       "2       2018               2983           1.2 Revotron XZ     585000.0   \n",
       "3       2014               1867        1.2 Kappa S Option     462000.0   \n",
       "4       2015               4277             DDiS 200 Zeta     790000.0   \n",
       "\n",
       "    Actual_Price       city  \n",
       "0  427093.247588  bangalore  \n",
       "1  838093.247588  bangalore  \n",
       "2  612093.247588  bangalore  \n",
       "3  489093.247588  bangalore  \n",
       "4  817093.247588  bangalore  \n",
       "\n",
       "[5 rows x 27 columns]"
      ]
     },
     "execution_count": 11,
     "metadata": {},
     "output_type": "execute_result"
    }
   ],
   "source": [
    "df.head(5)"
   ]
  },
  {
   "cell_type": "markdown",
   "metadata": {},
   "source": [
    "***Cleaned Number_of_Seats column from bangalore***"
   ]
  },
  {
   "cell_type": "code",
   "execution_count": 12,
   "metadata": {},
   "outputs": [],
   "source": [
    "\n",
    "df['Number_of_Seats'] = df['Number_of_Seats'].str.replace('Seats', '',regex= False).str.strip()"
   ]
  },
  {
   "cell_type": "code",
   "execution_count": 13,
   "metadata": {},
   "outputs": [
    {
     "data": {
      "text/plain": [
       "array(['5', '7', '4', '6', '8', '10', nan, '9'], dtype=object)"
      ]
     },
     "execution_count": 13,
     "metadata": {},
     "output_type": "execute_result"
    }
   ],
   "source": [
    "df['Number_of_Seats'].unique()"
   ]
  },
  {
   "cell_type": "code",
   "execution_count": 14,
   "metadata": {},
   "outputs": [
    {
     "data": {
      "text/html": [
       "<div>\n",
       "<style scoped>\n",
       "    .dataframe tbody tr th:only-of-type {\n",
       "        vertical-align: middle;\n",
       "    }\n",
       "\n",
       "    .dataframe tbody tr th {\n",
       "        vertical-align: top;\n",
       "    }\n",
       "\n",
       "    .dataframe thead th {\n",
       "        text-align: right;\n",
       "    }\n",
       "</style>\n",
       "<table border=\"1\" class=\"dataframe\">\n",
       "  <thead>\n",
       "    <tr style=\"text-align: right;\">\n",
       "      <th></th>\n",
       "      <th>Insurance_Validity_Period</th>\n",
       "      <th>Fuel_Type</th>\n",
       "      <th>Number_of_Seats</th>\n",
       "      <th>Regional_Transport_Office</th>\n",
       "      <th>Transmission_Type</th>\n",
       "      <th>Top_Features</th>\n",
       "      <th>Comfort_and_Convenience</th>\n",
       "      <th>Interior_Features</th>\n",
       "      <th>Exterior_Features</th>\n",
       "      <th>Safety_Features</th>\n",
       "      <th>...</th>\n",
       "      <th>Kilometers_Driven</th>\n",
       "      <th>Number_of_Owners</th>\n",
       "      <th>Original_Equipment_Manufacturer</th>\n",
       "      <th>Car_Model</th>\n",
       "      <th>Model_Year</th>\n",
       "      <th>Central_Variant_ID</th>\n",
       "      <th>Variant_Name</th>\n",
       "      <th>Listed_Price</th>\n",
       "      <th>Actual_Price</th>\n",
       "      <th>city</th>\n",
       "    </tr>\n",
       "  </thead>\n",
       "  <tbody>\n",
       "    <tr>\n",
       "      <th>1175</th>\n",
       "      <td>Third Party</td>\n",
       "      <td>Petrol</td>\n",
       "      <td>NaN</td>\n",
       "      <td>KA03</td>\n",
       "      <td>Manual</td>\n",
       "      <td>[]</td>\n",
       "      <td>NaN</td>\n",
       "      <td>NaN</td>\n",
       "      <td>NaN</td>\n",
       "      <td>NaN</td>\n",
       "      <td>...</td>\n",
       "      <td>40,000</td>\n",
       "      <td>3</td>\n",
       "      <td>Maruti</td>\n",
       "      <td>Maruti Estilo</td>\n",
       "      <td>2009</td>\n",
       "      <td>4079</td>\n",
       "      <td>LXI</td>\n",
       "      <td>200000.0</td>\n",
       "      <td>227093.247588</td>\n",
       "      <td>bangalore</td>\n",
       "    </tr>\n",
       "  </tbody>\n",
       "</table>\n",
       "<p>1 rows × 27 columns</p>\n",
       "</div>"
      ],
      "text/plain": [
       "     Insurance_Validity_Period Fuel_Type Number_of_Seats  \\\n",
       "1175               Third Party    Petrol             NaN   \n",
       "\n",
       "     Regional_Transport_Office Transmission_Type Top_Features  \\\n",
       "1175                      KA03            Manual           []   \n",
       "\n",
       "     Comfort_and_Convenience Interior_Features Exterior_Features  \\\n",
       "1175                     NaN               NaN               NaN   \n",
       "\n",
       "     Safety_Features  ... Kilometers_Driven Number_of_Owners  \\\n",
       "1175             NaN  ...            40,000                3   \n",
       "\n",
       "     Original_Equipment_Manufacturer      Car_Model Model_Year  \\\n",
       "1175                          Maruti  Maruti Estilo       2009   \n",
       "\n",
       "     Central_Variant_ID Variant_Name Listed_Price   Actual_Price       city  \n",
       "1175               4079          LXI     200000.0  227093.247588  bangalore  \n",
       "\n",
       "[1 rows x 27 columns]"
      ]
     },
     "execution_count": 14,
     "metadata": {},
     "output_type": "execute_result"
    }
   ],
   "source": [
    "df[df['Number_of_Seats'].isnull()]"
   ]
  },
  {
   "cell_type": "code",
   "execution_count": 15,
   "metadata": {},
   "outputs": [
    {
     "data": {
      "text/plain": [
       "(1481, 27)"
      ]
     },
     "execution_count": 15,
     "metadata": {},
     "output_type": "execute_result"
    }
   ],
   "source": [
    "df.shape"
   ]
  },
  {
   "cell_type": "code",
   "execution_count": 16,
   "metadata": {},
   "outputs": [],
   "source": [
    "df=df.drop(df[df['Number_of_Seats'].isnull()].index)\n"
   ]
  },
  {
   "cell_type": "code",
   "execution_count": 17,
   "metadata": {},
   "outputs": [
    {
     "data": {
      "text/plain": [
       "array(['5', '7', '4', '6', '8', '10', '9'], dtype=object)"
      ]
     },
     "execution_count": 17,
     "metadata": {},
     "output_type": "execute_result"
    }
   ],
   "source": [
    "df['Number_of_Seats'].unique()"
   ]
  },
  {
   "cell_type": "code",
   "execution_count": 18,
   "metadata": {},
   "outputs": [],
   "source": [
    "df['Number_of_Seats']=df['Number_of_Seats'].astype(int)"
   ]
  },
  {
   "cell_type": "code",
   "execution_count": 19,
   "metadata": {},
   "outputs": [
    {
     "data": {
      "text/plain": [
       "dtype('int64')"
      ]
     },
     "execution_count": 19,
     "metadata": {},
     "output_type": "execute_result"
    }
   ],
   "source": [
    "df['Number_of_Seats'].dtypes"
   ]
  },
  {
   "cell_type": "markdown",
   "metadata": {},
   "source": [
    "***Engine_Capacity  column***"
   ]
  },
  {
   "cell_type": "code",
   "execution_count": 20,
   "metadata": {},
   "outputs": [
    {
     "data": {
      "text/plain": [
       "array(['998 CC', '1497 CC', '1199 CC', '1197 CC', '1248 CC', '1956 CC',\n",
       "       '1198 CC', '1462 CC', '2179 CC', '1950 CC', '1396 CC', '1995 CC',\n",
       "       '1498 CC', '4663 CC', '1086 CC', '1991 CC', '1968 CC', '1998 CC',\n",
       "       '2982 CC', '1461 CC', '1797 CC', '796 CC', '1353 CC', '2925 CC',\n",
       "       '2987 CC', '2967 CC', '999 CC', '1341 CC', '1496 CC', '1582 CC',\n",
       "       '1798 CC', '1120 CC', '1969 CC', '1451 CC', '814 CC', '1999 CC',\n",
       "       '1591 CC', '1397 CC', '1368 CC', '1598 CC', '3198 CC', '1196 CC',\n",
       "       '2993 CC', '2755 CC', '2143 CC', '2354 CC', '1332 CC', '2199 CC',\n",
       "       '1997 CC', '1499 CC', '2148 CC', '2696 CC', '1364 CC', '2494 CC',\n",
       "       '1373 CC', '1299 CC', '1061 CC', '1493 CC', '2497 CC', '1495 CC',\n",
       "       '1590 CC', '1896 CC', '1330 CC', '1781 CC', '1390 CC', '1194 CC',\n",
       "       '2953 CC', '1399 CC', '1595 CC', nan, '2496 CC', '0 CC', '1984 CC',\n",
       "       '2694 CC', '1298 CC', '2362 CC', '970 CC', '2198 CC', '1599 CC',\n",
       "       '993 CC', '2393 CC', '1389 CC', '1597 CC', '2498 CC', '2523 CC',\n",
       "       '1586 CC', '995 CC', '2499 CC', '2998 CC', '72 CC', '1589 CC',\n",
       "       '624 CC', '1596 CC', '799 CC', '3597 CC', '2184 CC', '1405 CC',\n",
       "       '5000 CC', '1422 CC', '1047 CC', '2200 CC', '2996 CC', '1108 CC',\n",
       "       '2400 CC', '1996 CC', '1395 CC'], dtype=object)"
      ]
     },
     "execution_count": 20,
     "metadata": {},
     "output_type": "execute_result"
    }
   ],
   "source": [
    "df['Engine_Capacity'].unique()"
   ]
  },
  {
   "cell_type": "code",
   "execution_count": 21,
   "metadata": {},
   "outputs": [],
   "source": [
    "df['Engine_Capacity']=df['Engine_Capacity'].str.replace('CC','',regex=False).str.strip()"
   ]
  },
  {
   "cell_type": "code",
   "execution_count": 22,
   "metadata": {},
   "outputs": [
    {
     "data": {
      "text/plain": [
       "np.int64(3)"
      ]
     },
     "execution_count": 22,
     "metadata": {},
     "output_type": "execute_result"
    }
   ],
   "source": [
    "df['Engine_Capacity'].isnull().sum()"
   ]
  },
  {
   "cell_type": "code",
   "execution_count": 23,
   "metadata": {},
   "outputs": [],
   "source": [
    "def extract_first_numeric(value):\n",
    "    if isinstance(value, str):\n",
    "        numbers = re.findall(r'\\d+\\.?\\d*', value)  # Find all numeric sequences\n",
    "        return numbers[0] if numbers else np.nan\n",
    "    return np.nan\n",
    "\n",
    "# Convert 'Engine_Capacity' to string and apply the function\n",
    "df['Engine_Capacity'] = df['Engine_Capacity'].astype(str).apply(extract_first_numeric)\n"
   ]
  },
  {
   "cell_type": "code",
   "execution_count": 24,
   "metadata": {},
   "outputs": [],
   "source": [
    "df['Engine_Capacity'] = pd.to_numeric(df['Engine_Capacity'], errors='coerce')"
   ]
  },
  {
   "cell_type": "code",
   "execution_count": 25,
   "metadata": {},
   "outputs": [],
   "source": [
    "#df['Engine_Capacity'] = df['Engine_Capacity'].clip(upper=10.0)"
   ]
  },
  {
   "cell_type": "code",
   "execution_count": 26,
   "metadata": {},
   "outputs": [
    {
     "data": {
      "text/html": [
       "<div>\n",
       "<style scoped>\n",
       "    .dataframe tbody tr th:only-of-type {\n",
       "        vertical-align: middle;\n",
       "    }\n",
       "\n",
       "    .dataframe tbody tr th {\n",
       "        vertical-align: top;\n",
       "    }\n",
       "\n",
       "    .dataframe thead th {\n",
       "        text-align: right;\n",
       "    }\n",
       "</style>\n",
       "<table border=\"1\" class=\"dataframe\">\n",
       "  <thead>\n",
       "    <tr style=\"text-align: right;\">\n",
       "      <th></th>\n",
       "      <th>Insurance_Validity_Period</th>\n",
       "      <th>Fuel_Type</th>\n",
       "      <th>Number_of_Seats</th>\n",
       "      <th>Regional_Transport_Office</th>\n",
       "      <th>Transmission_Type</th>\n",
       "      <th>Top_Features</th>\n",
       "      <th>Comfort_and_Convenience</th>\n",
       "      <th>Interior_Features</th>\n",
       "      <th>Exterior_Features</th>\n",
       "      <th>Safety_Features</th>\n",
       "      <th>...</th>\n",
       "      <th>Kilometers_Driven</th>\n",
       "      <th>Number_of_Owners</th>\n",
       "      <th>Original_Equipment_Manufacturer</th>\n",
       "      <th>Car_Model</th>\n",
       "      <th>Model_Year</th>\n",
       "      <th>Central_Variant_ID</th>\n",
       "      <th>Variant_Name</th>\n",
       "      <th>Listed_Price</th>\n",
       "      <th>Actual_Price</th>\n",
       "      <th>city</th>\n",
       "    </tr>\n",
       "  </thead>\n",
       "  <tbody>\n",
       "    <tr>\n",
       "      <th>487</th>\n",
       "      <td>Third Party</td>\n",
       "      <td>Petrol</td>\n",
       "      <td>6</td>\n",
       "      <td>NaN</td>\n",
       "      <td>Manual</td>\n",
       "      <td>[]</td>\n",
       "      <td>NaN</td>\n",
       "      <td>NaN</td>\n",
       "      <td>NaN</td>\n",
       "      <td>NaN</td>\n",
       "      <td>...</td>\n",
       "      <td>10,000</td>\n",
       "      <td>3</td>\n",
       "      <td>Maruti</td>\n",
       "      <td>Maruti Gypsy</td>\n",
       "      <td>1995</td>\n",
       "      <td>4099</td>\n",
       "      <td>MG410W ST</td>\n",
       "      <td>400000.0</td>\n",
       "      <td>427093.247588</td>\n",
       "      <td>bangalore</td>\n",
       "    </tr>\n",
       "    <tr>\n",
       "      <th>490</th>\n",
       "      <td>Third Party</td>\n",
       "      <td>Petrol</td>\n",
       "      <td>8</td>\n",
       "      <td>KA18</td>\n",
       "      <td>Manual</td>\n",
       "      <td>[]</td>\n",
       "      <td>NaN</td>\n",
       "      <td>NaN</td>\n",
       "      <td>NaN</td>\n",
       "      <td>NaN</td>\n",
       "      <td>...</td>\n",
       "      <td>10,000</td>\n",
       "      <td>3</td>\n",
       "      <td>Maruti</td>\n",
       "      <td>Maruti Gypsy</td>\n",
       "      <td>1995</td>\n",
       "      <td>4100</td>\n",
       "      <td>MG410W HT</td>\n",
       "      <td>400000.0</td>\n",
       "      <td>427093.247588</td>\n",
       "      <td>bangalore</td>\n",
       "    </tr>\n",
       "    <tr>\n",
       "      <th>574</th>\n",
       "      <td>Third Party</td>\n",
       "      <td>Electric</td>\n",
       "      <td>4</td>\n",
       "      <td>KA03</td>\n",
       "      <td>Automatic</td>\n",
       "      <td>['Power Steering', 'Power Windows Front', 'Air...</td>\n",
       "      <td>['Power Steering', 'Power Windows Front', 'Pow...</td>\n",
       "      <td>['Air Conditioner', 'Heater', 'Digital Odomete...</td>\n",
       "      <td>['Adjustable Head Lights', 'Manually Adjustabl...</td>\n",
       "      <td>['Child Safety Locks', 'Halogen Headlamps', 'R...</td>\n",
       "      <td>...</td>\n",
       "      <td>20,000</td>\n",
       "      <td>1</td>\n",
       "      <td>Mahindra</td>\n",
       "      <td>Mahindra e2o Plus</td>\n",
       "      <td>2017</td>\n",
       "      <td>5477</td>\n",
       "      <td>P6</td>\n",
       "      <td>550000.0</td>\n",
       "      <td>577093.247588</td>\n",
       "      <td>bangalore</td>\n",
       "    </tr>\n",
       "  </tbody>\n",
       "</table>\n",
       "<p>3 rows × 27 columns</p>\n",
       "</div>"
      ],
      "text/plain": [
       "    Insurance_Validity_Period Fuel_Type  Number_of_Seats  \\\n",
       "487               Third Party    Petrol                6   \n",
       "490               Third Party    Petrol                8   \n",
       "574               Third Party  Electric                4   \n",
       "\n",
       "    Regional_Transport_Office Transmission_Type  \\\n",
       "487                       NaN            Manual   \n",
       "490                      KA18            Manual   \n",
       "574                      KA03         Automatic   \n",
       "\n",
       "                                          Top_Features  \\\n",
       "487                                                 []   \n",
       "490                                                 []   \n",
       "574  ['Power Steering', 'Power Windows Front', 'Air...   \n",
       "\n",
       "                               Comfort_and_Convenience  \\\n",
       "487                                                NaN   \n",
       "490                                                NaN   \n",
       "574  ['Power Steering', 'Power Windows Front', 'Pow...   \n",
       "\n",
       "                                     Interior_Features  \\\n",
       "487                                                NaN   \n",
       "490                                                NaN   \n",
       "574  ['Air Conditioner', 'Heater', 'Digital Odomete...   \n",
       "\n",
       "                                     Exterior_Features  \\\n",
       "487                                                NaN   \n",
       "490                                                NaN   \n",
       "574  ['Adjustable Head Lights', 'Manually Adjustabl...   \n",
       "\n",
       "                                       Safety_Features  ... Kilometers_Driven  \\\n",
       "487                                                NaN  ...            10,000   \n",
       "490                                                NaN  ...            10,000   \n",
       "574  ['Child Safety Locks', 'Halogen Headlamps', 'R...  ...            20,000   \n",
       "\n",
       "    Number_of_Owners  Original_Equipment_Manufacturer          Car_Model  \\\n",
       "487                3                           Maruti       Maruti Gypsy   \n",
       "490                3                           Maruti       Maruti Gypsy   \n",
       "574                1                         Mahindra  Mahindra e2o Plus   \n",
       "\n",
       "    Model_Year Central_Variant_ID Variant_Name Listed_Price   Actual_Price  \\\n",
       "487       1995               4099    MG410W ST     400000.0  427093.247588   \n",
       "490       1995               4100    MG410W HT     400000.0  427093.247588   \n",
       "574       2017               5477           P6     550000.0  577093.247588   \n",
       "\n",
       "          city  \n",
       "487  bangalore  \n",
       "490  bangalore  \n",
       "574  bangalore  \n",
       "\n",
       "[3 rows x 27 columns]"
      ]
     },
     "execution_count": 26,
     "metadata": {},
     "output_type": "execute_result"
    }
   ],
   "source": [
    "df[df['Engine_Capacity'].isna()]"
   ]
  },
  {
   "cell_type": "code",
   "execution_count": 27,
   "metadata": {},
   "outputs": [],
   "source": [
    "#df.iloc[:, 10:][df['Original_Equipment_Manufacturer'] == 'Maruti']"
   ]
  },
  {
   "cell_type": "code",
   "execution_count": 28,
   "metadata": {},
   "outputs": [],
   "source": [
    "df['Engine_Capacity'] = df.groupby('Original_Equipment_Manufacturer')['Engine_Capacity'].transform(lambda x: x.fillna(x.mean()))"
   ]
  },
  {
   "cell_type": "code",
   "execution_count": 29,
   "metadata": {},
   "outputs": [
    {
     "name": "stdout",
     "output_type": "stream",
     "text": [
      "0\n"
     ]
    }
   ],
   "source": [
    "print(df['Engine_Capacity'].isnull().sum())"
   ]
  },
  {
   "cell_type": "code",
   "execution_count": 30,
   "metadata": {},
   "outputs": [],
   "source": [
    "# overall_mean = df['Engine_Capacity'].mean()\n",
    "# df['Engine_Capacity'] = df['Engine_Capacity'].fillna(overall_mean)"
   ]
  },
  {
   "cell_type": "code",
   "execution_count": 31,
   "metadata": {},
   "outputs": [
    {
     "data": {
      "text/plain": [
       "np.int64(0)"
      ]
     },
     "execution_count": 31,
     "metadata": {},
     "output_type": "execute_result"
    }
   ],
   "source": [
    "df['Engine_Capacity'].isnull().sum()"
   ]
  },
  {
   "cell_type": "code",
   "execution_count": 32,
   "metadata": {},
   "outputs": [
    {
     "data": {
      "text/plain": [
       "np.int64(0)"
      ]
     },
     "execution_count": 32,
     "metadata": {},
     "output_type": "execute_result"
    }
   ],
   "source": [
    "df['Car_Model'].isnull().sum()"
   ]
  },
  {
   "cell_type": "markdown",
   "metadata": {},
   "source": [
    "***Cleaned Regional_Transport_Office column from bangalore dataset***"
   ]
  },
  {
   "cell_type": "code",
   "execution_count": 33,
   "metadata": {},
   "outputs": [],
   "source": [
    "df['Regional_Transport_Office']=df['Regional_Transport_Office'].fillna('KA03')#filled missing values using max value"
   ]
  },
  {
   "cell_type": "code",
   "execution_count": 34,
   "metadata": {},
   "outputs": [
    {
     "data": {
      "text/plain": [
       "np.int64(0)"
      ]
     },
     "execution_count": 34,
     "metadata": {},
     "output_type": "execute_result"
    }
   ],
   "source": [
    "df['Regional_Transport_Office'].isnull().sum()"
   ]
  },
  {
   "cell_type": "code",
   "execution_count": 35,
   "metadata": {},
   "outputs": [
    {
     "data": {
      "text/plain": [
       "Insurance_Validity_Period            0\n",
       "Fuel_Type                            0\n",
       "Number_of_Seats                      0\n",
       "Regional_Transport_Office            0\n",
       "Transmission_Type                    0\n",
       "Top_Features                         0\n",
       "Comfort_and_Convenience             13\n",
       "Interior_Features                   16\n",
       "Exterior_Features                   20\n",
       "Safety_Features                     21\n",
       "Entertainment_and_Communication    135\n",
       "Mileage_(km/l)                      42\n",
       "Engine_Capacity                      0\n",
       "Maximum_Power                       15\n",
       "Torque                              15\n",
       "Wheel_Size                         451\n",
       "Battery_Type                         0\n",
       "Kilometers_Driven                    0\n",
       "Number_of_Owners                     0\n",
       "Original_Equipment_Manufacturer      0\n",
       "Car_Model                            0\n",
       "Model_Year                           0\n",
       "Central_Variant_ID                   0\n",
       "Variant_Name                         0\n",
       "Listed_Price                         0\n",
       "Actual_Price                         0\n",
       "city                                 0\n",
       "dtype: int64"
      ]
     },
     "execution_count": 35,
     "metadata": {},
     "output_type": "execute_result"
    }
   ],
   "source": [
    "df.isna().sum()"
   ]
  },
  {
   "cell_type": "markdown",
   "metadata": {},
   "source": [
    "***Clleaned Transmission_Type colum from bangalore dataset***"
   ]
  },
  {
   "cell_type": "code",
   "execution_count": 36,
   "metadata": {},
   "outputs": [
    {
     "data": {
      "text/plain": [
       "array(['Manual', 'Automatic'], dtype=object)"
      ]
     },
     "execution_count": 36,
     "metadata": {},
     "output_type": "execute_result"
    }
   ],
   "source": [
    "df['Transmission_Type'].unique()"
   ]
  },
  {
   "cell_type": "code",
   "execution_count": 37,
   "metadata": {},
   "outputs": [
    {
     "data": {
      "text/plain": [
       "np.int64(0)"
      ]
     },
     "execution_count": 37,
     "metadata": {},
     "output_type": "execute_result"
    }
   ],
   "source": [
    "df['Transmission_Type'].isnull().sum()"
   ]
  },
  {
   "cell_type": "code",
   "execution_count": 38,
   "metadata": {},
   "outputs": [
    {
     "data": {
      "text/plain": [
       "(1480, 27)"
      ]
     },
     "execution_count": 38,
     "metadata": {},
     "output_type": "execute_result"
    }
   ],
   "source": [
    "df.shape"
   ]
  },
  {
   "cell_type": "markdown",
   "metadata": {},
   "source": [
    "***Cleaned Mileage_(km/l) column from bangalore dataset***"
   ]
  },
  {
   "cell_type": "code",
   "execution_count": 39,
   "metadata": {},
   "outputs": [
    {
     "data": {
      "text/plain": [
       "Mileage_(km/l)\n",
       "kmpl     1436\n",
       "km/kg       2\n",
       "Name: count, dtype: int64"
      ]
     },
     "execution_count": 39,
     "metadata": {},
     "output_type": "execute_result"
    }
   ],
   "source": [
    "df['Mileage_(km/l)'].str[-5:].str.strip().value_counts()"
   ]
  },
  {
   "cell_type": "code",
   "execution_count": 40,
   "metadata": {},
   "outputs": [],
   "source": [
    "df['Mileage_(km/l)'] = df['Mileage_(km/l)'].str.replace('kmpl','',regex = False).str.strip().str.replace('km/kg','',regex = False).str.strip()"
   ]
  },
  {
   "cell_type": "code",
   "execution_count": 41,
   "metadata": {},
   "outputs": [
    {
     "name": "stdout",
     "output_type": "stream",
     "text": [
      "Remaining NaN values in 'Mileage_(km/l)': 0\n"
     ]
    }
   ],
   "source": [
    "df['Mileage_(km/l)'] = pd.to_numeric(df['Mileage_(km/l)'], errors='coerce')\n",
    "# Fill remaining NaNs with the overall mean after group filling\n",
    "overall_mean = df['Mileage_(km/l)'].mean()\n",
    "df['Mileage_(km/l)'] = df['Mileage_(km/l)'].fillna(overall_mean)\n",
    "\n",
    "# Check for any remaining NaNs\n",
    "remaining_nans = df['Mileage_(km/l)'].isna().sum()\n",
    "print(f\"Remaining NaN values in 'Mileage_(km/l)': {remaining_nans}\")\n"
   ]
  },
  {
   "cell_type": "code",
   "execution_count": 42,
   "metadata": {},
   "outputs": [
    {
     "data": {
      "text/plain": [
       "Insurance_Validity_Period            0\n",
       "Fuel_Type                            0\n",
       "Number_of_Seats                      0\n",
       "Regional_Transport_Office            0\n",
       "Transmission_Type                    0\n",
       "Top_Features                         0\n",
       "Comfort_and_Convenience             13\n",
       "Interior_Features                   16\n",
       "Exterior_Features                   20\n",
       "Safety_Features                     21\n",
       "Entertainment_and_Communication    135\n",
       "Mileage_(km/l)                       0\n",
       "Engine_Capacity                      0\n",
       "Maximum_Power                       15\n",
       "Torque                              15\n",
       "Wheel_Size                         451\n",
       "Battery_Type                         0\n",
       "Kilometers_Driven                    0\n",
       "Number_of_Owners                     0\n",
       "Original_Equipment_Manufacturer      0\n",
       "Car_Model                            0\n",
       "Model_Year                           0\n",
       "Central_Variant_ID                   0\n",
       "Variant_Name                         0\n",
       "Listed_Price                         0\n",
       "Actual_Price                         0\n",
       "city                                 0\n",
       "dtype: int64"
      ]
     },
     "execution_count": 42,
     "metadata": {},
     "output_type": "execute_result"
    }
   ],
   "source": [
    "df.isna().sum()"
   ]
  },
  {
   "cell_type": "code",
   "execution_count": 43,
   "metadata": {},
   "outputs": [],
   "source": [
    "# grouped = df.groupby('Fuel_Type')"
   ]
  },
  {
   "cell_type": "code",
   "execution_count": 44,
   "metadata": {},
   "outputs": [],
   "source": [
    "# mean_mileage = grouped['Mileage_(km/l)'].mean()"
   ]
  },
  {
   "cell_type": "code",
   "execution_count": 45,
   "metadata": {},
   "outputs": [],
   "source": [
    "# def fill_missing_mileage(row):\n",
    "#     if pd.isna(row['Mileage_(km/l)']):\n",
    "#         fuel_type = row['Fuel_Type']\n",
    "#         return mean_mileage.get(fuel_type, None)  # Use .get() to handle any Fuel_Type with no mean value\n",
    "#     else:\n",
    "#         return row['Mileage_(km/l)']\n",
    "\n",
    "# df['Mileage_(km/l)'] = df.apply(fill_missing_mileage, axis=1)\n"
   ]
  },
  {
   "cell_type": "markdown",
   "metadata": {},
   "source": [
    "***Cleaned Wheel_Size column from the bangalore dataset***"
   ]
  },
  {
   "cell_type": "code",
   "execution_count": 46,
   "metadata": {},
   "outputs": [
    {
     "data": {
      "text/plain": [
       "array([nan, '16', '14', '17', '15', '19', '13', '18', 'R18', '12', 'R16',\n",
       "       'R17', '20', 'R15', 'R19', 'R14', '21'], dtype=object)"
      ]
     },
     "execution_count": 46,
     "metadata": {},
     "output_type": "execute_result"
    }
   ],
   "source": [
    "df['Wheel_Size'].unique()"
   ]
  },
  {
   "cell_type": "code",
   "execution_count": 47,
   "metadata": {},
   "outputs": [
    {
     "data": {
      "text/plain": [
       "np.int64(451)"
      ]
     },
     "execution_count": 47,
     "metadata": {},
     "output_type": "execute_result"
    }
   ],
   "source": [
    "df['Wheel_Size'].isnull().sum()"
   ]
  },
  {
   "cell_type": "code",
   "execution_count": 48,
   "metadata": {},
   "outputs": [],
   "source": [
    "df['Wheel_Size'] = df['Wheel_Size'].str.replace('R','',regex = False).str.strip()"
   ]
  },
  {
   "cell_type": "code",
   "execution_count": 49,
   "metadata": {},
   "outputs": [],
   "source": [
    "df['Wheel_Size'] = pd.to_numeric(df['Wheel_Size'], errors='coerce')"
   ]
  },
  {
   "cell_type": "code",
   "execution_count": 50,
   "metadata": {},
   "outputs": [],
   "source": [
    "df['Wheel_Size'] = df['Wheel_Size'].fillna(df['Wheel_Size'].mean())"
   ]
  },
  {
   "cell_type": "code",
   "execution_count": 51,
   "metadata": {},
   "outputs": [
    {
     "data": {
      "text/plain": [
       "Insurance_Validity_Period            0\n",
       "Fuel_Type                            0\n",
       "Number_of_Seats                      0\n",
       "Regional_Transport_Office            0\n",
       "Transmission_Type                    0\n",
       "Top_Features                         0\n",
       "Comfort_and_Convenience             13\n",
       "Interior_Features                   16\n",
       "Exterior_Features                   20\n",
       "Safety_Features                     21\n",
       "Entertainment_and_Communication    135\n",
       "Mileage_(km/l)                       0\n",
       "Engine_Capacity                      0\n",
       "Maximum_Power                       15\n",
       "Torque                              15\n",
       "Wheel_Size                           0\n",
       "Battery_Type                         0\n",
       "Kilometers_Driven                    0\n",
       "Number_of_Owners                     0\n",
       "Original_Equipment_Manufacturer      0\n",
       "Car_Model                            0\n",
       "Model_Year                           0\n",
       "Central_Variant_ID                   0\n",
       "Variant_Name                         0\n",
       "Listed_Price                         0\n",
       "Actual_Price                         0\n",
       "city                                 0\n",
       "dtype: int64"
      ]
     },
     "execution_count": 51,
     "metadata": {},
     "output_type": "execute_result"
    }
   ],
   "source": [
    "df.isna().sum()"
   ]
  },
  {
   "cell_type": "code",
   "execution_count": 52,
   "metadata": {},
   "outputs": [
    {
     "data": {
      "text/plain": [
       "array(['1,20,000', '32,706', '11,949', '17,794', '60,000', '20,000',\n",
       "       '37,772', '30,000', '37,000', '50,000', '24,887', '23,000',\n",
       "       '48,928', '1,08,862', '80,000', '16,000', '65,376', '10,000',\n",
       "       '67,000', '1,00,000', '18,083', '57,634', '1,10,000', '23,447',\n",
       "       '33,000', '87,667', '40,000', '79,012', '31,344', '12,434',\n",
       "       '12,000', '40,987', '18,157', '89,667', '56,997', '59,000',\n",
       "       '18,835', '60,932', '33,539', '66,837', '400', '44,285', '25,000',\n",
       "       '36,735', '79,000', '53,645', '53,982', '37,741', '17,367',\n",
       "       '94,000', '33,700', '54,601', '64,000', '40,525', '44,154',\n",
       "       '70,000', '68,039', '49,873', '90,000', '48,960', '68,000',\n",
       "       '23,017', '83,000', '92,000', '62,139', '74,000', '26,500',\n",
       "       '81,716', '24,000', '18,000', '38,197', '19,000', '14,000',\n",
       "       '29,268', '64,374', '7,100', '43,679', '40,562', '58,600',\n",
       "       '42,050', '65,017', '36,349', '83,394', '52,204', '89,000',\n",
       "       '29,813', '13,345', '17,100', '75,000', '75,523', '47,000',\n",
       "       '36,500', '28,253', '52,571', '61,993', '57,000', '36,359',\n",
       "       '7,500', '30,301', '66,000', '56,010', '83,829', '35,000',\n",
       "       '51,116', '85,565', '36,916', '1,12,795', '11,000', '36,685',\n",
       "       '4,000', '32,184', '32,279', '59,698', '46,071', '9,554', '74,499',\n",
       "       '56,211', '9,001', '65,457', '23,682', '1,34,557', '96,567',\n",
       "       '83,007', '34,000', '81,634', '57,284', '46,429', '17,624',\n",
       "       '49,690', '55,702', '45,046', '53,000', '94,695', '22,162',\n",
       "       '1,15,331', '42,233', '20,941', '46,602', '1,04,000', '50,035',\n",
       "       '25,170', '25,022', '26,367', '76,567', '36,459', '93,725',\n",
       "       '1,15,599', '43,469', '77,000', '72,000', '87,101', '40,771',\n",
       "       '28,000', '26,000', '76,032', '1,13,780', '65,812', '39,959',\n",
       "       '65,484', '49,174', '63,797', '60,216', '38,153', '76,485',\n",
       "       '40,623', '88,051', '16,522', '35,469', '40,073', '65,730',\n",
       "       '36,184', '69,310', '55,643', '62,803', '68,656', '77,501',\n",
       "       '48,325', '69,000', '14,999', '90,773', '64,917', '70,235',\n",
       "       '78,782', '1,64,000', '72,136', '52,486', '1,50,000', '36,887',\n",
       "       '47,962', '1,35,000', '47,398', '55,000', '1,16,624', '54,561',\n",
       "       '65,072', '1,33,532', '39,886', '56,976', '68,303', '54,000',\n",
       "       '98,500', '72,348', '62,696', '1,74,000', '65,000', '36,000',\n",
       "       '1,99,000', '71,905', '69,748', '44,000', '17,875', '95,678',\n",
       "       '12,003', '1,14,427', '64,655', '46,456', '27,000', '91,598',\n",
       "       '57,521', '7,598', '38,520', '1,10,455', '26,901', '28,177',\n",
       "       '82,998', '14,500', '25,887', '74,094', '91,045', '80,033',\n",
       "       '13,957', '34,140', '20,056', '38,233', '98,000', '16,998',\n",
       "       '15,256', '4,495', '34,561', '1,42,135', '9,553', '7,600',\n",
       "       '45,578', '42,000', '16,306', '25,086', '54,845', '35,642',\n",
       "       '22,173', '67,790', '38,000', '49,713', '10,002', '46,706',\n",
       "       '1,06,000', '55,833', '46,716', '1,13,348', '1,34,000', '52,311',\n",
       "       '59,514', '36,743', '83,046', '59,420', '4,545', '70,404',\n",
       "       '39,725', '23,272', '8,407', '14,881', '54,305', '64,998',\n",
       "       '75,940', '25,639', '44,107', '41,594', '24,786', '56,000',\n",
       "       '31,000', '19,065', '30,538', '48,891', '26,676', '35,647',\n",
       "       '63,825', '31,346', '79,349', '88,203', '37,370', '52,228',\n",
       "       '40,542', '47,936', '45,000', '20,469', '46,258', '54,242',\n",
       "       '90,727', '31,003', '24,233', '36,983', '68,915', '5,440', '8,096',\n",
       "       '1,25,903', '33,040', '30,722', '58,778', '51,395', '65,881',\n",
       "       '49,934', '91,000', '61,576', '1,14,321', '53,125', '36,462',\n",
       "       '97,542', '13,000', '41,000', '94,471', '58,000', '46,000',\n",
       "       '36,531', '36,004', '58,808', '31,983', '78,536', '54,134',\n",
       "       '27,227', '25,508', '19,047', '64,453', '43,387', '36,538',\n",
       "       '36,787', '32,112', '53,701', '26,085', '46,894', '53,692',\n",
       "       '37,809', '30,813', '56,254', '15,727', '150', '21,113', '71,775',\n",
       "       '59,882', '24,463', '72,352', '90,928', '1,17,530', '1,02,814',\n",
       "       '34,801', '51,877', '17,125', '50,318', '46,123', '33,360',\n",
       "       '21,800', '11,045', '51,406', '26,031', '30,740', '65,909',\n",
       "       '1,40,590', '32,953', '51,801', '62,621', '79,068', '36,314',\n",
       "       '21,236', '47,488', '56,814', '63,206', '61,103', '1,12,268',\n",
       "       '97,346', '36,977', '85,700', '40,082', '1,12,566', '61,978',\n",
       "       '27,658', '43,371', '67,633', '76,794', '59,577', '94,932',\n",
       "       '75,140', '88,000', '73,969', '62,598', '24,343', '58,917',\n",
       "       '72,338', '64,235', '83,873', '93,059', '45,681', '45,938',\n",
       "       '57,423', '60,942', '19,875', '14,949', '77,995', '40,908',\n",
       "       '39,693', '63,411', '94,221', '93,975', '30,155', '59,006',\n",
       "       '18,570', '48,246', '61,263', '65,507', '26,158', '35,250',\n",
       "       '65,965', '40,304', '56,661', '90,213', '20,739', '47,127',\n",
       "       '47,038', '40,769', '34,757', '88,119', '57,176', '62,223',\n",
       "       '52,000', '63,251', '67,444', '63,837', '61,000', '60,777',\n",
       "       '39,248', '96,198', '81,207', '48,148', '64,389', '67,245',\n",
       "       '30,518', '1,02,407', '53,606', '44,253', '34,702', '42,762',\n",
       "       '57,459', '70,381', '80,648', '81,853', '90,802', '16,502',\n",
       "       '31,530', '71,086', '69,210', '71,165', '86,543', '67,225',\n",
       "       '16,247', '39,481', '61,227', '1,12,521', '63,359', '1,25,227',\n",
       "       '71,884', '79,059', '69,124', '73,340', '44,268', '37,354',\n",
       "       '80,426', '89,801', '69,199', '78,249', '26,918', '29,905',\n",
       "       '37,678', '60,442', '66,463', '40,844', '79,415', '88,411',\n",
       "       '1,06,516', '88,509', '44,437', '83,731', '45,621', '38,199',\n",
       "       '91,660', '51,947', '76,836', '33,222', '47,333', '43,791',\n",
       "       '87,660', '71,938', '1,04,938', '1,24,707', '88,556', '48,743',\n",
       "       '51,338', '97,334', '53,031', '51,580', '23,920', '66,434',\n",
       "       '54,097', '27,655', '14,955', '14,338', '73,799', '39,139',\n",
       "       '89,633', '16,826', '25,133', '34,990', '33,210', '28,051',\n",
       "       '22,280', '21,193', '7,150', '13,262', '21,000', '61,902',\n",
       "       '38,396', '7,561', '6,731', '55,567', '48,938', '71,545', '56,577',\n",
       "       '56,974', '40,344', '36,216', '45,965', '74,982', '21,925',\n",
       "       '50,406', '26,483', '12,104', '23,721', '8,212', '9,358', '62,011',\n",
       "       '38,771', '42,174', '43,199', '10,155', '1,10,654', '50,704',\n",
       "       '34,725', '57,709', '26,224', '32,196', '56,672', '21,226',\n",
       "       '1,05,000', '10,346', '16,679', '15,437', '15,017', '75,283',\n",
       "       '54,568', '14,516', '53,627', '5,083', '50,666', '16,962',\n",
       "       '70,446', '60,528', '7,132', '21,280', '82,021', '18,998',\n",
       "       '56,189', '57,644', '51,286', '27,937', '40,031', '47,619',\n",
       "       '30,535', '20,229', '35,800', '11,453', '35,410', '49,948',\n",
       "       '48,285', '19,062', '87,000', '56,276', '27,103', '46,507',\n",
       "       '39,070', '22,438', '21,225', '28,737', '90,106', '1,38,175',\n",
       "       '55,609', '56,410', '77,593', '49,538', '41,268', '60,020',\n",
       "       '32,148', '69,565', '26,007', '1,34,850', '44,385', '1,02,662',\n",
       "       '13,802', '13,444', '56,226', '8,733', '57,963', '19,508',\n",
       "       '49,423', '78,622', '18,025', '68,220', '6,000', '59,889',\n",
       "       '38,500', '39,157', '1,62,000', '89,900', '58,666', '54,137',\n",
       "       '1,80,000', '21,997', '40,394', '49,000', '80,390', '52,721',\n",
       "       '55,127', '35,922', '16,883', '86,000', '55,398', '25,829',\n",
       "       '36,913', '42,162', '48,041', '43,285', '44,326', '62,984',\n",
       "       '99,276', '42,812', '57,770', '42,220', '66,977', '29,916',\n",
       "       '10,066', '39,243', '36,309', '69,408', '12,064', '17,190',\n",
       "       '58,323', '40,765', '58,198', '42,976', '1,04,507', '44,074',\n",
       "       '14,089', '94,378', '71,000', '1,13,000', '1,70,402', '25,883',\n",
       "       '32,746', '35,038', '38,995', '61,102', '1,32,000', '52,288',\n",
       "       '69,054', '51,745', '22,000', '11,268', '24,357', '1,57,000',\n",
       "       '9,982', '39,613', '68,906', '71,423', '17,811', '9,724', '20,754',\n",
       "       '50,510', '85,000', '48,979', '9,000', '78,000', '1,500', '8,187',\n",
       "       '81,777', '48,698', '67,771', '60,386', '1,11,374', '40,561',\n",
       "       '92,529', '55,342', '51,000', '36,468', '11,250', '36,368',\n",
       "       '62,000', '39,466', '49,570', '23,382', '42,954', '68,306',\n",
       "       '54,961', '91,087', '16,691', '80,190', '54,639', '50,225',\n",
       "       '68,017', '87,912', '2,045', '24,305', '2,500', '31,489', '82,268',\n",
       "       '73,834', '73,000', '41,436', '19,024', '73,140', '29,289',\n",
       "       '39,116', '41,958', '26,626', '63,460', '35,711', '20,057',\n",
       "       '25,396', '35,993', '74,280', '82,000', '63,773', '1,01,356',\n",
       "       '75,591', '72,208', '51,489', '74,643', '79,575', '35,288',\n",
       "       '70,314', '96,939', '44,824', '1,69,219', '92,673', '20,183',\n",
       "       '77,130', '27,025', '1,05,153', '70,509', '11,662', '36,176',\n",
       "       '74,342', '89,837', '11,912', '55,544', '27,027', '56,363',\n",
       "       '42,094', '1,14,912', '33,649', '69,798', '49,001', '57,527',\n",
       "       '57,367', '50,936', '23,237', '66,596', '36,613', '74,104',\n",
       "       '6,777', '14,560', '90,333', '50,114', '69,301', '71,306',\n",
       "       '35,135', '1,02,000', '41,659', '85,300', '32,483', '34,376',\n",
       "       '36,540', '1,48,625', '81,000', '5,609', '30,285', '80,153',\n",
       "       '49,641', '83,075', '45,677', '81,849', '67,791', '38,100',\n",
       "       '65,015', '62,029', '94,926', '1,19,487', '1,26,000', '70,332',\n",
       "       '37,950', '1,56,039', '93,003'], dtype=object)"
      ]
     },
     "execution_count": 52,
     "metadata": {},
     "output_type": "execute_result"
    }
   ],
   "source": [
    "df['Kilometers_Driven'].unique()"
   ]
  },
  {
   "cell_type": "code",
   "execution_count": 53,
   "metadata": {},
   "outputs": [
    {
     "data": {
      "text/plain": [
       "np.int64(0)"
      ]
     },
     "execution_count": 53,
     "metadata": {},
     "output_type": "execute_result"
    }
   ],
   "source": [
    "df['Kilometers_Driven'].isnull().sum()"
   ]
  },
  {
   "cell_type": "code",
   "execution_count": 54,
   "metadata": {},
   "outputs": [],
   "source": [
    "df['Kilometers_Driven']=df['Kilometers_Driven'].str.replace(',','',regex = False).str.strip()"
   ]
  },
  {
   "cell_type": "code",
   "execution_count": 55,
   "metadata": {},
   "outputs": [
    {
     "data": {
      "text/plain": [
       "dtype('O')"
      ]
     },
     "execution_count": 55,
     "metadata": {},
     "output_type": "execute_result"
    }
   ],
   "source": [
    "df['Kilometers_Driven'].dtype"
   ]
  },
  {
   "cell_type": "code",
   "execution_count": 56,
   "metadata": {},
   "outputs": [],
   "source": [
    "df['Kilometers_Driven'] = df['Kilometers_Driven'].astype(int)"
   ]
  },
  {
   "cell_type": "code",
   "execution_count": 57,
   "metadata": {},
   "outputs": [
    {
     "data": {
      "text/plain": [
       "dtype('int64')"
      ]
     },
     "execution_count": 57,
     "metadata": {},
     "output_type": "execute_result"
    }
   ],
   "source": [
    "df['Kilometers_Driven'].dtype"
   ]
  },
  {
   "cell_type": "code",
   "execution_count": 58,
   "metadata": {},
   "outputs": [
    {
     "data": {
      "text/plain": [
       "array([3, 2, 1, 4, 5])"
      ]
     },
     "execution_count": 58,
     "metadata": {},
     "output_type": "execute_result"
    }
   ],
   "source": [
    "df['Number_of_Owners'].unique()"
   ]
  },
  {
   "cell_type": "code",
   "execution_count": 59,
   "metadata": {},
   "outputs": [
    {
     "data": {
      "text/plain": [
       "np.int64(0)"
      ]
     },
     "execution_count": 59,
     "metadata": {},
     "output_type": "execute_result"
    }
   ],
   "source": [
    "df['Number_of_Owners'].isnull().sum()"
   ]
  },
  {
   "cell_type": "code",
   "execution_count": 60,
   "metadata": {},
   "outputs": [
    {
     "data": {
      "text/plain": [
       "dtype('int64')"
      ]
     },
     "execution_count": 60,
     "metadata": {},
     "output_type": "execute_result"
    }
   ],
   "source": [
    "df['Number_of_Owners'].dtype"
   ]
  },
  {
   "cell_type": "code",
   "execution_count": 61,
   "metadata": {},
   "outputs": [
    {
     "data": {
      "text/plain": [
       "array(['Maruti', 'Ford', 'Tata', 'Hyundai', 'Jeep', 'Datsun', 'Honda',\n",
       "       'Mahindra', 'Mercedes-Benz', 'BMW', 'Renault', 'Audi', 'Toyota',\n",
       "       'Mini', 'Kia', 'Skoda', 'Volkswagen', 'Volvo', 'MG', 'Nissan',\n",
       "       'Fiat', 'Mahindra Ssangyong', 'Mitsubishi', 'Jaguar', 'Land Rover',\n",
       "       'Chevrolet', 'Citroen', 'Opel', 'Mahindra Renault'], dtype=object)"
      ]
     },
     "execution_count": 61,
     "metadata": {},
     "output_type": "execute_result"
    }
   ],
   "source": [
    "df['Original_Equipment_Manufacturer'].unique()"
   ]
  },
  {
   "cell_type": "code",
   "execution_count": 62,
   "metadata": {},
   "outputs": [
    {
     "data": {
      "text/plain": [
       "np.int64(0)"
      ]
     },
     "execution_count": 62,
     "metadata": {},
     "output_type": "execute_result"
    }
   ],
   "source": [
    "df['Original_Equipment_Manufacturer'].isnull().sum()"
   ]
  },
  {
   "cell_type": "code",
   "execution_count": 63,
   "metadata": {},
   "outputs": [
    {
     "data": {
      "text/plain": [
       "array([2015, 2018, 2014, 2020, 2017, 2021, 2019, 2022, 2016, 2011, 2009,\n",
       "       2013, 2010, 2008, 2006, 2012, 2005, 2007, 2023, 1995, 1998, 2004,\n",
       "       2003, 2001, 2002, 2000])"
      ]
     },
     "execution_count": 63,
     "metadata": {},
     "output_type": "execute_result"
    }
   ],
   "source": [
    "df['Model_Year'].unique()"
   ]
  },
  {
   "cell_type": "code",
   "execution_count": 64,
   "metadata": {},
   "outputs": [
    {
     "data": {
      "text/plain": [
       "np.int64(0)"
      ]
     },
     "execution_count": 64,
     "metadata": {},
     "output_type": "execute_result"
    }
   ],
   "source": [
    "check =df['Model_Year'].isin([',']).sum()\n",
    "check"
   ]
  },
  {
   "cell_type": "code",
   "execution_count": 65,
   "metadata": {},
   "outputs": [
    {
     "data": {
      "text/plain": [
       "np.int64(0)"
      ]
     },
     "execution_count": 65,
     "metadata": {},
     "output_type": "execute_result"
    }
   ],
   "source": [
    "df['Model_Year'].isnull().sum()"
   ]
  },
  {
   "cell_type": "code",
   "execution_count": 66,
   "metadata": {},
   "outputs": [
    {
     "data": {
      "text/plain": [
       "dtype('int64')"
      ]
     },
     "execution_count": 66,
     "metadata": {},
     "output_type": "execute_result"
    }
   ],
   "source": [
    "df['Model_Year'].dtype"
   ]
  },
  {
   "cell_type": "code",
   "execution_count": 67,
   "metadata": {},
   "outputs": [
    {
     "data": {
      "text/plain": [
       "0    3979\n",
       "1    6087\n",
       "2    2983\n",
       "3    1867\n",
       "4    4277\n",
       "Name: Central_Variant_ID, dtype: int64"
      ]
     },
     "execution_count": 67,
     "metadata": {},
     "output_type": "execute_result"
    }
   ],
   "source": [
    "df['Central_Variant_ID'].head()"
   ]
  },
  {
   "cell_type": "code",
   "execution_count": 68,
   "metadata": {},
   "outputs": [
    {
     "data": {
      "text/plain": [
       "np.int64(0)"
      ]
     },
     "execution_count": 68,
     "metadata": {},
     "output_type": "execute_result"
    }
   ],
   "source": [
    "df['Central_Variant_ID'].isnull().sum()"
   ]
  },
  {
   "cell_type": "code",
   "execution_count": 69,
   "metadata": {},
   "outputs": [
    {
     "data": {
      "text/plain": [
       "np.int64(0)"
      ]
     },
     "execution_count": 69,
     "metadata": {},
     "output_type": "execute_result"
    }
   ],
   "source": [
    "check =df['Central_Variant_ID'].isin([',']).sum()\n",
    "check"
   ]
  },
  {
   "cell_type": "code",
   "execution_count": 70,
   "metadata": {},
   "outputs": [
    {
     "data": {
      "text/plain": [
       "dtype('int64')"
      ]
     },
     "execution_count": 70,
     "metadata": {},
     "output_type": "execute_result"
    }
   ],
   "source": [
    "df['Central_Variant_ID'].dtype"
   ]
  },
  {
   "cell_type": "code",
   "execution_count": 71,
   "metadata": {},
   "outputs": [
    {
     "data": {
      "text/plain": [
       "0                         VXI\n",
       "1    1.5 Petrol Titanium BSIV\n",
       "2             1.2 Revotron XZ\n",
       "3          1.2 Kappa S Option\n",
       "4               DDiS 200 Zeta\n",
       "Name: Variant_Name, dtype: object"
      ]
     },
     "execution_count": 71,
     "metadata": {},
     "output_type": "execute_result"
    }
   ],
   "source": [
    "df['Variant_Name'].head()"
   ]
  },
  {
   "cell_type": "code",
   "execution_count": 72,
   "metadata": {},
   "outputs": [
    {
     "data": {
      "text/plain": [
       "np.int64(0)"
      ]
     },
     "execution_count": 72,
     "metadata": {},
     "output_type": "execute_result"
    }
   ],
   "source": [
    "df['Variant_Name'].isnull().sum()"
   ]
  },
  {
   "cell_type": "code",
   "execution_count": 73,
   "metadata": {},
   "outputs": [
    {
     "data": {
      "text/plain": [
       "np.int64(0)"
      ]
     },
     "execution_count": 73,
     "metadata": {},
     "output_type": "execute_result"
    }
   ],
   "source": [
    "check =df['Variant_Name'].isin([',']).sum()\n",
    "check"
   ]
  },
  {
   "cell_type": "code",
   "execution_count": 74,
   "metadata": {},
   "outputs": [
    {
     "data": {
      "text/plain": [
       "0    400000.0\n",
       "1    811000.0\n",
       "2    585000.0\n",
       "3    462000.0\n",
       "4    790000.0\n",
       "Name: Listed_Price, dtype: float64"
      ]
     },
     "execution_count": 74,
     "metadata": {},
     "output_type": "execute_result"
    }
   ],
   "source": [
    "df['Listed_Price'].head()"
   ]
  },
  {
   "cell_type": "code",
   "execution_count": 75,
   "metadata": {},
   "outputs": [],
   "source": [
    "df['Listed_Price'] = df['Listed_Price'].astype(int)"
   ]
  },
  {
   "cell_type": "code",
   "execution_count": 76,
   "metadata": {},
   "outputs": [
    {
     "name": "stdout",
     "output_type": "stream",
     "text": [
      "     Insurance_Validity_Period Fuel_Type  Number_of_Seats  \\\n",
      "0                  Third Party    Petrol                5   \n",
      "1                Comprehensive    Petrol                5   \n",
      "2                Comprehensive    Petrol                5   \n",
      "3                Comprehensive    Petrol                5   \n",
      "4                  Third Party    Diesel                5   \n",
      "...                        ...       ...              ...   \n",
      "1476             Comprehensive    Diesel                7   \n",
      "1477               Third Party    Petrol                5   \n",
      "1478             Comprehensive    Petrol                5   \n",
      "1479             Comprehensive    Diesel                5   \n",
      "1480             Comprehensive    Petrol                5   \n",
      "\n",
      "     Regional_Transport_Office Transmission_Type  \\\n",
      "0                         KA51            Manual   \n",
      "1                         KA05            Manual   \n",
      "2                         KA03            Manual   \n",
      "3                         KA53            Manual   \n",
      "4                         KA04            Manual   \n",
      "...                        ...               ...   \n",
      "1476                      KA01            Manual   \n",
      "1477                      KA02            Manual   \n",
      "1478                      KA03            Manual   \n",
      "1479                      KA03            Manual   \n",
      "1480                      KA04         Automatic   \n",
      "\n",
      "                                           Top_Features  \\\n",
      "0     ['Power Steering', 'Power Windows Front', 'Air...   \n",
      "1     ['Power Steering', 'Power Windows Front', 'Air...   \n",
      "2     ['Power Steering', 'Power Windows Front', 'Air...   \n",
      "3     ['Power Steering', 'Power Windows Front', 'Air...   \n",
      "4     ['Power Steering', 'Power Windows Front', 'Air...   \n",
      "...                                                 ...   \n",
      "1476  ['Power Steering', 'Power Windows Front', 'Air...   \n",
      "1477  ['Power Steering', 'Power Windows Front', 'Air...   \n",
      "1478  ['Power Steering', 'Power Windows Front', 'Air...   \n",
      "1479  ['Power Steering', 'Power Windows Front', 'Air...   \n",
      "1480  ['Power Steering', 'Power Windows Front', 'Air...   \n",
      "\n",
      "                                Comfort_and_Convenience  \\\n",
      "0     ['Power Steering', 'Power Windows Front', 'Pow...   \n",
      "1     ['Power Steering', 'Power Windows Front', 'Pow...   \n",
      "2     ['Power Steering', 'Power Windows Front', 'Pow...   \n",
      "3     ['Power Steering', 'Power Windows Front', 'Pow...   \n",
      "4     ['Power Steering', 'Power Windows Front', 'Pow...   \n",
      "...                                                 ...   \n",
      "1476  ['Power Steering', 'Power Windows Front', 'Pow...   \n",
      "1477  ['Power Steering', 'Power Windows Front', 'Pow...   \n",
      "1478  ['Power Steering', 'Power Windows Front', 'Pow...   \n",
      "1479  ['Power Steering', 'Power Windows Front', 'Pow...   \n",
      "1480  ['Power Steering', 'Power Windows Front', 'Pow...   \n",
      "\n",
      "                                      Interior_Features  \\\n",
      "0     ['Air Conditioner', 'Heater', 'Digital Odomete...   \n",
      "1     ['Air Conditioner', 'Heater', 'Adjustable Stee...   \n",
      "2     ['Air Conditioner', 'Heater', 'Adjustable Stee...   \n",
      "3     ['Air Conditioner', 'Heater', 'Adjustable Stee...   \n",
      "4     ['Air Conditioner', 'Heater', 'Adjustable Stee...   \n",
      "...                                                 ...   \n",
      "1476  ['Air Conditioner', 'Heater', 'Adjustable Stee...   \n",
      "1477  ['Air Conditioner', 'Heater', 'Adjustable Stee...   \n",
      "1478  ['Air Conditioner', 'Heater', 'Digital Odomete...   \n",
      "1479  ['Air Conditioner', 'Heater', 'Adjustable Stee...   \n",
      "1480  ['Air Conditioner', 'Heater', 'Adjustable Stee...   \n",
      "\n",
      "                                      Exterior_Features  \\\n",
      "0     ['Adjustable Head Lights', 'Manually Adjustabl...   \n",
      "1     ['Adjustable Head Lights', 'Fog Lights Front',...   \n",
      "2     ['Adjustable Head Lights', 'Fog Lights Front',...   \n",
      "3     ['Adjustable Head Lights', 'Fog Lights Front',...   \n",
      "4     ['Adjustable Head Lights', 'Fog Lights Front',...   \n",
      "...                                                 ...   \n",
      "1476  ['Adjustable Head Lights', 'Fog Lights Front',...   \n",
      "1477  ['Fog Lights Front', 'Fog Lights Rear', 'Power...   \n",
      "1478  ['Adjustable Head Lights', 'Power Adjustable E...   \n",
      "1479  ['Adjustable Head Lights', 'Fog Lights Front',...   \n",
      "1480  ['Adjustable Head Lights', 'Fog Lights Front',...   \n",
      "\n",
      "                                        Safety_Features  ...  \\\n",
      "0     ['Centeral Locking', 'Child Safety Locks', 'Da...  ...   \n",
      "1     ['Anti Lock Braking System', 'Centeral Locking...  ...   \n",
      "2     ['Anti Lock Braking System', 'Centeral Locking...  ...   \n",
      "3     ['Anti Lock Braking System', 'Centeral Locking...  ...   \n",
      "4     ['Anti Lock Braking System', 'Centeral Locking...  ...   \n",
      "...                                                 ...  ...   \n",
      "1476  ['Anti Lock Braking System', 'Brake Assist', '...  ...   \n",
      "1477  ['Anti Lock Braking System', 'Brake Assist', '...  ...   \n",
      "1478  ['Centeral Locking', 'Power Door Locks', 'Chil...  ...   \n",
      "1479  ['Anti Lock Braking System', 'Centeral Locking...  ...   \n",
      "1480  ['Anti Lock Braking System', 'Centeral Locking...  ...   \n",
      "\n",
      "     Kilometers_Driven  Number_of_Owners  Original_Equipment_Manufacturer  \\\n",
      "0               120000                 3                           Maruti   \n",
      "1                32706                 2                             Ford   \n",
      "2                11949                 1                             Tata   \n",
      "3                17794                 1                          Hyundai   \n",
      "4                60000                 1                           Maruti   \n",
      "...                ...               ...                              ...   \n",
      "1476            156039                 2                           Toyota   \n",
      "1477             56000                 2                           Maruti   \n",
      "1478             42000                 2                            Honda   \n",
      "1479             93003                 1                          Hyundai   \n",
      "1480             36000                 2                          Hyundai   \n",
      "\n",
      "               Car_Model Model_Year  Central_Variant_ID  \\\n",
      "0         Maruti Celerio       2015                3979   \n",
      "1          Ford Ecosport       2018                6087   \n",
      "2             Tata Tiago       2018                2983   \n",
      "3          Hyundai Xcent       2014                1867   \n",
      "4     Maruti SX4 S Cross       2015                4277   \n",
      "...                  ...        ...                 ...   \n",
      "1476     Toyota Fortuner       2012                2253   \n",
      "1477          Maruti SX4       2008                4257   \n",
      "1478          Honda Brio       2014                1188   \n",
      "1479         Hyundai i20       2018                5695   \n",
      "1480   Hyundai Grand i10       2017                1523   \n",
      "\n",
      "                  Variant_Name  Listed_Price  Actual_Price       city  \n",
      "0                          VXI        400000        427093  bangalore  \n",
      "1     1.5 Petrol Titanium BSIV        811000        838093  bangalore  \n",
      "2              1.2 Revotron XZ        585000        612093  bangalore  \n",
      "3           1.2 Kappa S Option        462000        489093  bangalore  \n",
      "4                DDiS 200 Zeta        790000        817093  bangalore  \n",
      "...                        ...           ...           ...        ...  \n",
      "1476                    4x4 MT       1649000       1676093  bangalore  \n",
      "1477                 Zxi BSIII        330000        357093  bangalore  \n",
      "1478                      S MT        425000        452093  bangalore  \n",
      "1479        1.4 Asta Dual Tone        750000        777093  bangalore  \n",
      "1480            Asta Option AT        675000        702093  bangalore  \n",
      "\n",
      "[1480 rows x 27 columns]\n"
     ]
    }
   ],
   "source": [
    "pd.set_option('display.float_format', '{:.0f}'.format)\n",
    "\n",
    "# Now, when you print your DataFrame, it will display without scientific notation\n",
    "print(df)\n"
   ]
  },
  {
   "cell_type": "code",
   "execution_count": 77,
   "metadata": {},
   "outputs": [
    {
     "data": {
      "text/plain": [
       "array([    400000,     811000,     585000,     462000,     790000,\n",
       "          1900000,     345000,    1200000,     960000,     690000,\n",
       "           682000,     825000,     595000,    1350000,    5595000,\n",
       "           521000,    1005000,     775000,    2200000,     582000,\n",
       "          1090000,     457000,    4900000,     550000,     570000,\n",
       "           220000,    4145000,     861000,    1785000,     802999,\n",
       "          2565000,     674000,     349000,    1050000,    4425000,\n",
       "           405999,    4965000,    1100000,     594000,     710000,\n",
       "           692000,     650000,    2090000,     411000,    3675000,\n",
       "           610000,    1675000,     530000,    7990000,     250000,\n",
       "           715000,    3500000,    2250000,     625000,    2695000,\n",
       "           428000,     695000,     930000,     455000,    1195000,\n",
       "          2175000,     442000,     500000,    3395000,     537000,\n",
       "           750000,    1790000,     468000,     420000,     919999,\n",
       "           533000,     850000,     751000,     388000,     490000,\n",
       "           494000,     525000,    2890000,     365000,    1895000,\n",
       "          5990000,    2075000,     394000,     725000,     240000,\n",
       "           835000,    1725000,     330000,     990000,     755000,\n",
       "          1750000,    2083000,     271000,    1280000,     436000,\n",
       "          1250000,    2225000,     475000,     600000,    2450000,\n",
       "          1625000,    1650000,     249000,     630000,    2599000,\n",
       "           385000,     300000,    2975000,     276000,     730000,\n",
       "          2245000,     399000,     312000,    1275000,    1990000,\n",
       "           719000,    1260000,    3981000,     627000,    1300000,\n",
       "           672000,    1825000,     440000,    1460000,    2041000,\n",
       "          1033000,     275000,     676000,    4290000,     444000,\n",
       "           509999,     925000,    1024000,     994999,     935000,\n",
       "           834000,     560000,     454000,    3690000,     900000,\n",
       "          7900000,     843000,     799000,     576000,     949000,\n",
       "           795000,    1085000,    2590000,     516000,     777000,\n",
       "           753000,    1226000,    1150000,     629000,     447000,\n",
       "           786000,     745000,     942000,     675000,     875000,\n",
       "           869000,     425000,    1070000,    1025000,    1000000,\n",
       "           375000,     844000,     764000,     684000,     320000,\n",
       "           803999,    1400000,     548000,     619000,     865000,\n",
       "           535000,     975000,     699000,     893000,     941000,\n",
       "           632000,     645000,    6795000,     299000,    2095000,\n",
       "          2800000,     999000,    1295000,     329000,     666000,\n",
       "          2290000,    1026000,    1700000,     681000,    1690000,\n",
       "           318000,     688000,     265000,    2000000,     620000,\n",
       "          1470000,    1475000,     415000,     686000,     517000,\n",
       "          3300000,     499000,     774000,     285000,     780000,\n",
       "           555000,     607000,     513999,     705000,     653000,\n",
       "           872000,     564000,     370000,    1220000,     575000,\n",
       "           868000,    3000000,     980000,     450000,     543000,\n",
       "           661000,     505000,    2365000,    6050000,    1600000,\n",
       "           520000,     616000,     624000,     549000,     760000,\n",
       "           524000,     583000,    1147000,    3150000,     855000,\n",
       "          1845000,     950000,     846000,     424000,     210000,\n",
       "           959000,     889000,     836000,     660000,     334000,\n",
       "           991000,    1450000,     219000,    1285000,    4195000,\n",
       "           729000,     432000,     700000,    1499000,     762000,\n",
       "          1218000,    1405000,    1390000,    1890000,    1125000,\n",
       "           260000,     395000,     405000,     765000,     487000,\n",
       "          1474000,    1340000,     770000,     818000,     724000,\n",
       "           175000,     408000,     642000,     390000,     429000,\n",
       "           601000,    1975000,    1644000,     894999,     350000,\n",
       "           581000,     513000,     806000,    4950000,     426000,\n",
       "           484999,     351000,    1495000,    2750000,    2345000,\n",
       "           190000,     890000,     823000,     554000,     815000,\n",
       "           372000,     515000,     409999,     685000,    5500000,\n",
       "          1800000,     180000,    1950000,     491000,    1175000,\n",
       "          3400000,    1779000,     404000,     358000,    1551000,\n",
       "           501000,     617000,    4700000,     840000,    1380000,\n",
       "           696000,     721000,     927000,    3275000,     905000,\n",
       "           848000,    1099000,     445000,     327000,     577000,\n",
       "           679000,    1445000,     776000,     380000,    3075000,\n",
       "           527000,     552000,     459000,     536000,    2400000,\n",
       "          4745000,    1375000,     880000,    1030000,    5675000,\n",
       "           532000,     651000,    3200000,     740000,    1699000,\n",
       "          1765000,     360000,     493000,     486000,     540000,\n",
       "           407000,     453000,    1010000,    1645000,     635000,\n",
       "           977000,    1705000,     667000,     636000,     792000,\n",
       "       5800000000,     827000,     382000,     512000,     463000,\n",
       "          1500000,     459999,     511000, 5500000000,     130000,\n",
       "           985000,    1045000,     200000,     586000,     584000,\n",
       "           409000,     738000,     656000,     483000,     185000,\n",
       "          2100000,    1245000,     546000,     160000,     332000,\n",
       "           809000,     347000,     150000,    1359000,     110000,\n",
       "           135000,     170000,    2850000,    1449000,     377000,\n",
       "           638000,    1575000,     613000,    1145000,     599000,\n",
       "          2165000,     120000,     165000,     888000,     707000,\n",
       "           593000,     574000,     573000, 7000000000,     430000,\n",
       "          1075000,     615000,     746000,     634000, 4000000000,\n",
       "           579000,     965000,    3600000,     982000,     810000,\n",
       "           383000,     605000,    1345000,     734000,     701000,\n",
       "           789000,     476999,    1525000,     562000,     670000,\n",
       "       8000000000,     531000,     558000,     155000,     508000,\n",
       "          2060000,     542000,    1370000,    3250000,    2475000,\n",
       "           417000,     631000,     465000,     544000,     704000,\n",
       "           359000,     335000,     766000,     480000,     822000,\n",
       "          3795000,     539000,    1006000,    3900000,     796000,\n",
       "           718000,     280000,     559000,     268000,     864000,\n",
       "           341000,     800000,    3750000,     338000,     604000,\n",
       "           621000,     140000,     708000,     443000,     470000,\n",
       "          1850000, 7500000000,     649000,     657000,     322000,\n",
       "           434999,     317000,     830000, 6500000000,     547000,\n",
       "           413000,    2325000,     709000,    2295000,     528000,\n",
       "           691000,    2550000,     609000,     678000,     449000,\n",
       "       5600000000,     844999,     680000,     720000, 6000000000,\n",
       "           357000,     798000,     858000,     608000,     698000,\n",
       "          1035000,     328000, 7600000000,     232000,     966000,\n",
       "           781000,     749000,    2350000,     230000,     898000,\n",
       "          2395000,    1485000,    3825000,    2500000,    1540000,\n",
       "          1290000, 5000000000,     808000,     278000,    1261000,\n",
       "           270000,     340000,    1225000,    2900000,     315000,\n",
       "          1328000,    1724000,     225000,     100000,    1329000,\n",
       "          1358000,     911000,    1565000,     479000,     736000,\n",
       "          2600000,    4445000,     618000,     916000,     125000,\n",
       "           590000,     381000,     819000,     195000,    1013000,\n",
       "           677000,     591000,     697000,     463999,    1695000,\n",
       "          2700000,     733000,    1885000,    1193000,    2150000,\n",
       "          1585000,    7000000,     689000,    1068000,    1799000,\n",
       "           639000,     325000,     290000,    1774000,    1073000,\n",
       "           658000,     495000,     647000,     245000,     659000,\n",
       "           867000,     389000,     186000,     694000,     384000,\n",
       "           782000,     663000,     316000,    1595000,    1057000,\n",
       "          1264000,    1666000,    3875000,    3775000,    2198000,\n",
       "           612000,    3299000,     643000,     838000,    2545000,\n",
       "           655000,     476000,    1299000,     492000,    1365000,\n",
       "          1488000,     939000,    1944000,     551000,     352000,\n",
       "          1519000,     737000,     526000,    3194000,    1899000,\n",
       "          1545000,    3495000,     626000,    1775000,    2875000,\n",
       "          2275000,    1550000,    3025000,    4275000,    4450000,\n",
       "          1007000,     906000,    1031000,    1395000,    1423000,\n",
       "          4399000,     747000,    1590000,     403000,    1440000,\n",
       "          5275000,    3800000,     507000,    1020000,     472000,\n",
       "           471000,     821000,     401999,    1002000,    1298000,\n",
       "          1109000,     466000,     924000,     378000,     899000,\n",
       "           944999,    1605000,    1170000,    9500000,    2195000,\n",
       "           421000,    1349000,    4100000,    2190000,     446000,\n",
       "          1018000,     654000,     310000,    1084000,    1382000,\n",
       "          3575000,     961999,     849000,    5750000,     306000,\n",
       "           348000,    2425000,     541000,     568000,     637000,\n",
       "          1649000])"
      ]
     },
     "execution_count": 77,
     "metadata": {},
     "output_type": "execute_result"
    }
   ],
   "source": [
    "df['Listed_Price'].unique()"
   ]
  },
  {
   "cell_type": "code",
   "execution_count": 78,
   "metadata": {},
   "outputs": [
    {
     "data": {
      "text/plain": [
       "dtype('int64')"
      ]
     },
     "execution_count": 78,
     "metadata": {},
     "output_type": "execute_result"
    }
   ],
   "source": [
    "df['Listed_Price'].dtype"
   ]
  },
  {
   "cell_type": "code",
   "execution_count": 79,
   "metadata": {},
   "outputs": [
    {
     "data": {
      "text/plain": [
       "np.int64(0)"
      ]
     },
     "execution_count": 79,
     "metadata": {},
     "output_type": "execute_result"
    }
   ],
   "source": [
    "df['Listed_Price'].isnull().sum()"
   ]
  },
  {
   "cell_type": "code",
   "execution_count": 80,
   "metadata": {},
   "outputs": [
    {
     "data": {
      "text/plain": [
       "0   427093\n",
       "1   838093\n",
       "2   612093\n",
       "3   489093\n",
       "4   817093\n",
       "Name: Actual_Price, dtype: float64"
      ]
     },
     "execution_count": 80,
     "metadata": {},
     "output_type": "execute_result"
    }
   ],
   "source": [
    "df['Actual_Price'].head()"
   ]
  },
  {
   "cell_type": "code",
   "execution_count": 81,
   "metadata": {},
   "outputs": [],
   "source": [
    "df['Actual_Price']=df['Actual_Price'].astype(int)"
   ]
  },
  {
   "cell_type": "code",
   "execution_count": 82,
   "metadata": {},
   "outputs": [
    {
     "name": "stdout",
     "output_type": "stream",
     "text": [
      "     Insurance_Validity_Period Fuel_Type  Number_of_Seats  \\\n",
      "0                  Third Party    Petrol                5   \n",
      "1                Comprehensive    Petrol                5   \n",
      "2                Comprehensive    Petrol                5   \n",
      "3                Comprehensive    Petrol                5   \n",
      "4                  Third Party    Diesel                5   \n",
      "...                        ...       ...              ...   \n",
      "1476             Comprehensive    Diesel                7   \n",
      "1477               Third Party    Petrol                5   \n",
      "1478             Comprehensive    Petrol                5   \n",
      "1479             Comprehensive    Diesel                5   \n",
      "1480             Comprehensive    Petrol                5   \n",
      "\n",
      "     Regional_Transport_Office Transmission_Type  \\\n",
      "0                         KA51            Manual   \n",
      "1                         KA05            Manual   \n",
      "2                         KA03            Manual   \n",
      "3                         KA53            Manual   \n",
      "4                         KA04            Manual   \n",
      "...                        ...               ...   \n",
      "1476                      KA01            Manual   \n",
      "1477                      KA02            Manual   \n",
      "1478                      KA03            Manual   \n",
      "1479                      KA03            Manual   \n",
      "1480                      KA04         Automatic   \n",
      "\n",
      "                                           Top_Features  \\\n",
      "0     ['Power Steering', 'Power Windows Front', 'Air...   \n",
      "1     ['Power Steering', 'Power Windows Front', 'Air...   \n",
      "2     ['Power Steering', 'Power Windows Front', 'Air...   \n",
      "3     ['Power Steering', 'Power Windows Front', 'Air...   \n",
      "4     ['Power Steering', 'Power Windows Front', 'Air...   \n",
      "...                                                 ...   \n",
      "1476  ['Power Steering', 'Power Windows Front', 'Air...   \n",
      "1477  ['Power Steering', 'Power Windows Front', 'Air...   \n",
      "1478  ['Power Steering', 'Power Windows Front', 'Air...   \n",
      "1479  ['Power Steering', 'Power Windows Front', 'Air...   \n",
      "1480  ['Power Steering', 'Power Windows Front', 'Air...   \n",
      "\n",
      "                                Comfort_and_Convenience  \\\n",
      "0     ['Power Steering', 'Power Windows Front', 'Pow...   \n",
      "1     ['Power Steering', 'Power Windows Front', 'Pow...   \n",
      "2     ['Power Steering', 'Power Windows Front', 'Pow...   \n",
      "3     ['Power Steering', 'Power Windows Front', 'Pow...   \n",
      "4     ['Power Steering', 'Power Windows Front', 'Pow...   \n",
      "...                                                 ...   \n",
      "1476  ['Power Steering', 'Power Windows Front', 'Pow...   \n",
      "1477  ['Power Steering', 'Power Windows Front', 'Pow...   \n",
      "1478  ['Power Steering', 'Power Windows Front', 'Pow...   \n",
      "1479  ['Power Steering', 'Power Windows Front', 'Pow...   \n",
      "1480  ['Power Steering', 'Power Windows Front', 'Pow...   \n",
      "\n",
      "                                      Interior_Features  \\\n",
      "0     ['Air Conditioner', 'Heater', 'Digital Odomete...   \n",
      "1     ['Air Conditioner', 'Heater', 'Adjustable Stee...   \n",
      "2     ['Air Conditioner', 'Heater', 'Adjustable Stee...   \n",
      "3     ['Air Conditioner', 'Heater', 'Adjustable Stee...   \n",
      "4     ['Air Conditioner', 'Heater', 'Adjustable Stee...   \n",
      "...                                                 ...   \n",
      "1476  ['Air Conditioner', 'Heater', 'Adjustable Stee...   \n",
      "1477  ['Air Conditioner', 'Heater', 'Adjustable Stee...   \n",
      "1478  ['Air Conditioner', 'Heater', 'Digital Odomete...   \n",
      "1479  ['Air Conditioner', 'Heater', 'Adjustable Stee...   \n",
      "1480  ['Air Conditioner', 'Heater', 'Adjustable Stee...   \n",
      "\n",
      "                                      Exterior_Features  \\\n",
      "0     ['Adjustable Head Lights', 'Manually Adjustabl...   \n",
      "1     ['Adjustable Head Lights', 'Fog Lights Front',...   \n",
      "2     ['Adjustable Head Lights', 'Fog Lights Front',...   \n",
      "3     ['Adjustable Head Lights', 'Fog Lights Front',...   \n",
      "4     ['Adjustable Head Lights', 'Fog Lights Front',...   \n",
      "...                                                 ...   \n",
      "1476  ['Adjustable Head Lights', 'Fog Lights Front',...   \n",
      "1477  ['Fog Lights Front', 'Fog Lights Rear', 'Power...   \n",
      "1478  ['Adjustable Head Lights', 'Power Adjustable E...   \n",
      "1479  ['Adjustable Head Lights', 'Fog Lights Front',...   \n",
      "1480  ['Adjustable Head Lights', 'Fog Lights Front',...   \n",
      "\n",
      "                                        Safety_Features  ...  \\\n",
      "0     ['Centeral Locking', 'Child Safety Locks', 'Da...  ...   \n",
      "1     ['Anti Lock Braking System', 'Centeral Locking...  ...   \n",
      "2     ['Anti Lock Braking System', 'Centeral Locking...  ...   \n",
      "3     ['Anti Lock Braking System', 'Centeral Locking...  ...   \n",
      "4     ['Anti Lock Braking System', 'Centeral Locking...  ...   \n",
      "...                                                 ...  ...   \n",
      "1476  ['Anti Lock Braking System', 'Brake Assist', '...  ...   \n",
      "1477  ['Anti Lock Braking System', 'Brake Assist', '...  ...   \n",
      "1478  ['Centeral Locking', 'Power Door Locks', 'Chil...  ...   \n",
      "1479  ['Anti Lock Braking System', 'Centeral Locking...  ...   \n",
      "1480  ['Anti Lock Braking System', 'Centeral Locking...  ...   \n",
      "\n",
      "     Kilometers_Driven  Number_of_Owners  Original_Equipment_Manufacturer  \\\n",
      "0               120000                 3                           Maruti   \n",
      "1                32706                 2                             Ford   \n",
      "2                11949                 1                             Tata   \n",
      "3                17794                 1                          Hyundai   \n",
      "4                60000                 1                           Maruti   \n",
      "...                ...               ...                              ...   \n",
      "1476            156039                 2                           Toyota   \n",
      "1477             56000                 2                           Maruti   \n",
      "1478             42000                 2                            Honda   \n",
      "1479             93003                 1                          Hyundai   \n",
      "1480             36000                 2                          Hyundai   \n",
      "\n",
      "               Car_Model Model_Year  Central_Variant_ID  \\\n",
      "0         Maruti Celerio       2015                3979   \n",
      "1          Ford Ecosport       2018                6087   \n",
      "2             Tata Tiago       2018                2983   \n",
      "3          Hyundai Xcent       2014                1867   \n",
      "4     Maruti SX4 S Cross       2015                4277   \n",
      "...                  ...        ...                 ...   \n",
      "1476     Toyota Fortuner       2012                2253   \n",
      "1477          Maruti SX4       2008                4257   \n",
      "1478          Honda Brio       2014                1188   \n",
      "1479         Hyundai i20       2018                5695   \n",
      "1480   Hyundai Grand i10       2017                1523   \n",
      "\n",
      "                  Variant_Name  Listed_Price  Actual_Price       city  \n",
      "0                          VXI        400000        427093  bangalore  \n",
      "1     1.5 Petrol Titanium BSIV        811000        838093  bangalore  \n",
      "2              1.2 Revotron XZ        585000        612093  bangalore  \n",
      "3           1.2 Kappa S Option        462000        489093  bangalore  \n",
      "4                DDiS 200 Zeta        790000        817093  bangalore  \n",
      "...                        ...           ...           ...        ...  \n",
      "1476                    4x4 MT       1649000       1676093  bangalore  \n",
      "1477                 Zxi BSIII        330000        357093  bangalore  \n",
      "1478                      S MT        425000        452093  bangalore  \n",
      "1479        1.4 Asta Dual Tone        750000        777093  bangalore  \n",
      "1480            Asta Option AT        675000        702093  bangalore  \n",
      "\n",
      "[1480 rows x 27 columns]\n"
     ]
    }
   ],
   "source": [
    "pd.set_option('display.float_format', '{:.0f}'.format)\n",
    "\n",
    "# Now, when you print your DataFrame, it will display without scientific notation\n",
    "print(df)\n"
   ]
  },
  {
   "cell_type": "code",
   "execution_count": 83,
   "metadata": {},
   "outputs": [],
   "source": [
    "# Write the DataFrame to Excel, ensuring that floats are saved with no decimals\n",
    "df.to_excel('bangalore_cars_cleaned.xlsx', index=False, float_format='%.0f')\n"
   ]
  },
  {
   "cell_type": "code",
   "execution_count": 84,
   "metadata": {},
   "outputs": [
    {
     "data": {
      "text/plain": [
       "dtype('int64')"
      ]
     },
     "execution_count": 84,
     "metadata": {},
     "output_type": "execute_result"
    }
   ],
   "source": [
    "df['Actual_Price'].dtype"
   ]
  },
  {
   "cell_type": "code",
   "execution_count": 85,
   "metadata": {},
   "outputs": [
    {
     "data": {
      "text/plain": [
       "array([    427093,     838093,     612093,     489093,     817093,\n",
       "          1927093,     372093,    1227093,     987093,     717093,\n",
       "           709093,     852093,     622093,    1377093,    5622093,\n",
       "           548093,    1032093,     802093,    2227093,     609093,\n",
       "          1117093,     484093,    4927093,     577093,     585000,\n",
       "           247093,    4172093,     888093,    1812093,     821000,\n",
       "          2592093,     701093,     376093,    1077093,    4452093,\n",
       "           411000,    4992093,    1127093,     621093,     737093,\n",
       "           699000,     677093,    2117093,     420000,    3702093,\n",
       "           637093,    1702093,     557093,    8017093,     277093,\n",
       "           742093,    3527093,    2277093,     652093,    2722093,\n",
       "           436000,     722093,     957093,     459999,    1222093,\n",
       "          2202093,     463000,     527093,    3422093,     581000,\n",
       "           777093,    1817093,     515000,     447093,     947093,\n",
       "           593000,     877093,     780000,     415093,     517093,\n",
       "           521093,     552093,    2917093,     392093,    1922093,\n",
       "          6017093,    2102093,     415000,     752093,     267093,\n",
       "           862093,    1752093,     357093,    1017093,     782093,\n",
       "          1777093,    2110093,     278000,    1307093,     458000,\n",
       "          1277093,    2252093,     502093,     627093,    2477093,\n",
       "          1652093,    1677093,     276093,     657093,    2626093,\n",
       "           412093,     327093,    3002093,     303093,     757093,\n",
       "          2272093,     426093,     339093,    1302093,    2017093,\n",
       "           746093,    1287093,    4008093,     654093,    1327093,\n",
       "           699093,    1852093,     455000,    1487093,    2068093,\n",
       "          1060093,     302093,     690000,    4317093,     471093,\n",
       "           537093,     952093,    1051093,    1022093,     962093,\n",
       "           861093,     587093,     481093,    3717093,     927093,\n",
       "          7927093,     870093,     826093,     603093,     976093,\n",
       "           822093,    1112093,    2617093,     543093,     804093,\n",
       "           780093,    1253093,    1177093,     656093,     474093,\n",
       "           813093,     772093,     969093,     702093,     902093,\n",
       "           896093,     452093,    1097093,    1052093,    1027093,\n",
       "           402093,     871093,     791093,     711093,     830093,\n",
       "           347093,     831093,    1427093,     575093,     646093,\n",
       "           892093,     562093,    1002093,     726093,     920093,\n",
       "           968093,     574000,     659093,     657000,    6822093,\n",
       "           326093,    2122093,    2827093,    1026093,    1322093,\n",
       "           356093,     693093,    2317093,    1053093,    1727093,\n",
       "           714000,    1717093,     345093,     292093,     672093,\n",
       "          2027093,     647093,    1497093,    1502093,     442093,\n",
       "           615000,     565000,     693000,     549000,     688000,\n",
       "          3327093,     801093,     312093,     807093,     582093,\n",
       "           692000,     545000,     899093,     569000,     397093,\n",
       "           561000,     566000,    1247093,     602093,     895093,\n",
       "          3027093,    1007093,     601000,     477093,     616000,\n",
       "           605000,     731000,     526000,    2392093,    6077093,\n",
       "          1627093,     547093,     653000,     831000,     668000,\n",
       "           576093,     787093,     551093,     600000,    1183000,\n",
       "          3177093,     882093,    1872093,     977093,     873093,\n",
       "           434000,     237093,     985000,    1036000,     852000,\n",
       "           687093,     367000,     606000,    1018093,    1477093,\n",
       "           246093,    1312093,    4222093,     482093,     756093,\n",
       "           476000,     727093,    1526093,     769000,    1245093,\n",
       "           534000,    1432093,    1417093,    1917093,    1152093,\n",
       "           287093,     422093,     418000,     792093,     514093,\n",
       "          1488000,    1367093,     797093,     845093,     751093,\n",
       "           487000,     202093,     435093,     669093,     417093,\n",
       "           456093,     628093,    2002093,    1671093,     922093,\n",
       "           377093,     608093,     540093,     833093,    4977093,\n",
       "           453093,     512093,     378093,     491000,    1522093,\n",
       "          2777093,    2372093,     217093,     917093,     850093,\n",
       "           581093,     526093,     842093,     399093,     542093,\n",
       "           437093,     712093,    5527093,    1827093,     207093,\n",
       "          1977093,     518093,    1202093,    3427093,    1806093,\n",
       "           431093,     385093,    1578093,     644093,    4727093,\n",
       "           867093,    1407093,     723093,     748093,     954093,\n",
       "          3302093,     944999,     875093,    1126093,     472093,\n",
       "           354093,     688093,     689000,     604093,     685000,\n",
       "          1472093,     803093,     691000,     407093,    3102093,\n",
       "           533000,     451000,     579093,     476999,     449000,\n",
       "           563093,    2427093,    4772093,    1402093,     907093,\n",
       "          1057093,    5702093,     537000,     680000,    3227093,\n",
       "           721000,     767093,     459000,    1726093,     564000,\n",
       "          1792093,     387093,     528000,     509999,     513999,\n",
       "           546000,     478000,    1037093,    1672093,     662093,\n",
       "          1004093,    1732093,     686000,     659000,     819093,\n",
       "       5800027093,     854093,     405000,     532000,     496000,\n",
       "          1527093,     573000,     487093,     641000,     517000,\n",
       "       5500027093,     157093,    1012093,    1072093,     227093,\n",
       "           650000,     590000,     436093,     760000,     701000,\n",
       "           504000,     212093,    2127093,    1272093,     586000,\n",
       "           538000,     187093,     341000,     836093,     374093,\n",
       "           177093,    1448000,     137093,     162093,     197093,\n",
       "          2877093,    1476093,     404093,     670000,    1602093,\n",
       "           619000,    1172093,     624000,     665000,     637000,\n",
       "          2192093,     147093,     192093,     915093,     741000,\n",
       "           622000,     706000,     601093,     584000, 7000027093,\n",
       "           457093,    1102093,     656000,     773093,     694093,\n",
       "       4000027093,     597000,     661093,     542000,     992093,\n",
       "          3627093,    1012000,     837093,     842000,     416000,\n",
       "          1372093,     749000,     708000,     811999,     575000,\n",
       "           504093,    1552093,     595000,     697093, 8000027093,\n",
       "           629000,     570000,     599000,     182093,     513000,\n",
       "          2087093,     548000,    1397093,    3277093,    2502093,\n",
       "           434999,     681000,     492093,     596000,     707000,\n",
       "           350000,     806000,     507093,     849093,    3822093,\n",
       "           578000,    1026000,    3927093,     836999,     683000,\n",
       "           307093,     644000,     295093,     802000,     919999,\n",
       "           381000,     520000,     671000,     827093,    3777093,\n",
       "           370000,     664000,     337000,     645000,     673000,\n",
       "           167093,     758000,     473000,     497093,    1877093,\n",
       "       7500027093,     694000,     711000,     345000,     483000,\n",
       "           324000,     620000,     857093,     704000, 6500027093,\n",
       "           421000,    2352093,    2322093,     553000,    2577093,\n",
       "           632000,     717000,     465000,     579000, 5600027093,\n",
       "           627000,     872093,     707093,     747093, 6000027093,\n",
       "           384093,     819999,     883000,     735000,     792000,\n",
       "          1062093,     338000, 7600027093,     784000,     658000,\n",
       "           259093,     975000,     851000,     776093,    2377093,\n",
       "           257093,     894999,     973000,     956000,    2422093,\n",
       "           476093,    1512093,     349000,     844999,    3852093,\n",
       "          2527093,    1567093,    1317093, 5000027093,     462093,\n",
       "           835093,     305093,    1288093,     297093,     535093,\n",
       "           367093,    1252093,    2927093,     665093,     342093,\n",
       "          1355093,    1751093,     544093,     252093,     541093,\n",
       "           127093,    1356093,    1385093,    1003000,    1592093,\n",
       "           706093,     570093,     506093,     763093,    2627093,\n",
       "           816093,    4472093,     618000,     943093,     560000,\n",
       "           969000,     635093,     152093,     617093,     541000,\n",
       "           403000,     846093,     455093,     222093,    1040093,\n",
       "           480000,     451999,     491093,    1722093,    2727093,\n",
       "          1912093,     684093,    1220093,    2177093,    1612093,\n",
       "          7027093,     700000,    1095093,    1826093,     387000,\n",
       "           652000,     346000,     317093,    1801093,    1100093,\n",
       "           355000,     618093,     675000,     679000,     522093,\n",
       "           674093,     272093,     666000,     742000,     894093,\n",
       "           385000,     416093,     466000,     213093,     676093,\n",
       "           407000,     809093,     501000,     319000,     463093,\n",
       "          1622093,    1084093,     582000,    1344000,    1693093,\n",
       "           810000,     461000,    3902093,    3802093,    2225093,\n",
       "           712000,     636000,     472000,    3326093,     655000,\n",
       "           853999,     865093,    2572093,     484000,     365093,\n",
       "          1326093,     543000,     571093,    1392093,    1515093,\n",
       "           966093,    1971093,     400000,     519000,    1546093,\n",
       "           566093,     766000,     553093,    3221093,    1926093,\n",
       "          1572093,     654000,    3522093,    1802093,    2902093,\n",
       "          2302093,    1577093,    3052093,    4302093,    4477093,\n",
       "          1027000,     684000,     924000,    1045000,     462000,\n",
       "           651093,    1422093,    1450093,    4426093,     479000,\n",
       "           776000,    1617093,     525000,     540000,     321000,\n",
       "           430999,    1467093,    5302093,    3827093,     955000,\n",
       "          1047093,     524000,     848093,     626093,     455999,\n",
       "          1325093,     362093,    1136093,     471000,     933000,\n",
       "           397000,     926093,     380000,     794000,     972093,\n",
       "          1632093,    1197093,    9527093,    2222093,     447000,\n",
       "           430000,     531000,     674000,     901000,     698000,\n",
       "          1376093,    4127093,    2217093,     642093,     603000,\n",
       "           724000,    1045093,     849000,     681093,     337093,\n",
       "           433093,    1111093,     486000,    1409093,     990000,\n",
       "          3602093,     971000,     468000,     876093,    5777093,\n",
       "           890000,     309000,     375093,    2452093,     444093,\n",
       "           591000,     669000,     516000,    1676093])"
      ]
     },
     "execution_count": 85,
     "metadata": {},
     "output_type": "execute_result"
    }
   ],
   "source": [
    "df['Actual_Price'].unique()"
   ]
  },
  {
   "cell_type": "code",
   "execution_count": 86,
   "metadata": {},
   "outputs": [
    {
     "data": {
      "text/plain": [
       "np.int64(0)"
      ]
     },
     "execution_count": 86,
     "metadata": {},
     "output_type": "execute_result"
    }
   ],
   "source": [
    "df['Actual_Price'].isnull().sum()"
   ]
  },
  {
   "cell_type": "code",
   "execution_count": 87,
   "metadata": {},
   "outputs": [
    {
     "data": {
      "text/html": [
       "<div>\n",
       "<style scoped>\n",
       "    .dataframe tbody tr th:only-of-type {\n",
       "        vertical-align: middle;\n",
       "    }\n",
       "\n",
       "    .dataframe tbody tr th {\n",
       "        vertical-align: top;\n",
       "    }\n",
       "\n",
       "    .dataframe thead th {\n",
       "        text-align: right;\n",
       "    }\n",
       "</style>\n",
       "<table border=\"1\" class=\"dataframe\">\n",
       "  <thead>\n",
       "    <tr style=\"text-align: right;\">\n",
       "      <th></th>\n",
       "      <th>Mileage_(km/l)</th>\n",
       "      <th>Engine_Capacity</th>\n",
       "      <th>Maximum_Power</th>\n",
       "      <th>Torque</th>\n",
       "      <th>Wheel_Size</th>\n",
       "      <th>Battery_Type</th>\n",
       "      <th>Kilometers_Driven</th>\n",
       "      <th>Number_of_Owners</th>\n",
       "      <th>Original_Equipment_Manufacturer</th>\n",
       "      <th>Car_Model</th>\n",
       "      <th>Model_Year</th>\n",
       "      <th>Central_Variant_ID</th>\n",
       "      <th>Variant_Name</th>\n",
       "      <th>Listed_Price</th>\n",
       "      <th>Actual_Price</th>\n",
       "      <th>city</th>\n",
       "    </tr>\n",
       "  </thead>\n",
       "  <tbody>\n",
       "    <tr>\n",
       "      <th>0</th>\n",
       "      <td>23</td>\n",
       "      <td>998</td>\n",
       "      <td>67.04bhp</td>\n",
       "      <td>90Nm</td>\n",
       "      <td>16</td>\n",
       "      <td>Hatchback</td>\n",
       "      <td>120000</td>\n",
       "      <td>3</td>\n",
       "      <td>Maruti</td>\n",
       "      <td>Maruti Celerio</td>\n",
       "      <td>2015</td>\n",
       "      <td>3979</td>\n",
       "      <td>VXI</td>\n",
       "      <td>400000</td>\n",
       "      <td>427093</td>\n",
       "      <td>bangalore</td>\n",
       "    </tr>\n",
       "    <tr>\n",
       "      <th>1</th>\n",
       "      <td>17</td>\n",
       "      <td>1497</td>\n",
       "      <td>121.31bhp</td>\n",
       "      <td>150Nm</td>\n",
       "      <td>16</td>\n",
       "      <td>SUV</td>\n",
       "      <td>32706</td>\n",
       "      <td>2</td>\n",
       "      <td>Ford</td>\n",
       "      <td>Ford Ecosport</td>\n",
       "      <td>2018</td>\n",
       "      <td>6087</td>\n",
       "      <td>1.5 Petrol Titanium BSIV</td>\n",
       "      <td>811000</td>\n",
       "      <td>838093</td>\n",
       "      <td>bangalore</td>\n",
       "    </tr>\n",
       "    <tr>\n",
       "      <th>2</th>\n",
       "      <td>24</td>\n",
       "      <td>1199</td>\n",
       "      <td>84bhp</td>\n",
       "      <td>114Nm</td>\n",
       "      <td>14</td>\n",
       "      <td>Hatchback</td>\n",
       "      <td>11949</td>\n",
       "      <td>1</td>\n",
       "      <td>Tata</td>\n",
       "      <td>Tata Tiago</td>\n",
       "      <td>2018</td>\n",
       "      <td>2983</td>\n",
       "      <td>1.2 Revotron XZ</td>\n",
       "      <td>585000</td>\n",
       "      <td>612093</td>\n",
       "      <td>bangalore</td>\n",
       "    </tr>\n",
       "    <tr>\n",
       "      <th>3</th>\n",
       "      <td>19</td>\n",
       "      <td>1197</td>\n",
       "      <td>81.86bhp</td>\n",
       "      <td>113.75Nm</td>\n",
       "      <td>14</td>\n",
       "      <td>Sedan</td>\n",
       "      <td>17794</td>\n",
       "      <td>1</td>\n",
       "      <td>Hyundai</td>\n",
       "      <td>Hyundai Xcent</td>\n",
       "      <td>2014</td>\n",
       "      <td>1867</td>\n",
       "      <td>1.2 Kappa S Option</td>\n",
       "      <td>462000</td>\n",
       "      <td>489093</td>\n",
       "      <td>bangalore</td>\n",
       "    </tr>\n",
       "    <tr>\n",
       "      <th>4</th>\n",
       "      <td>24</td>\n",
       "      <td>1248</td>\n",
       "      <td>88.5bhp</td>\n",
       "      <td>200Nm</td>\n",
       "      <td>16</td>\n",
       "      <td>SUV</td>\n",
       "      <td>60000</td>\n",
       "      <td>1</td>\n",
       "      <td>Maruti</td>\n",
       "      <td>Maruti SX4 S Cross</td>\n",
       "      <td>2015</td>\n",
       "      <td>4277</td>\n",
       "      <td>DDiS 200 Zeta</td>\n",
       "      <td>790000</td>\n",
       "      <td>817093</td>\n",
       "      <td>bangalore</td>\n",
       "    </tr>\n",
       "  </tbody>\n",
       "</table>\n",
       "</div>"
      ],
      "text/plain": [
       "   Mileage_(km/l)  Engine_Capacity Maximum_Power    Torque  Wheel_Size  \\\n",
       "0              23              998      67.04bhp      90Nm          16   \n",
       "1              17             1497     121.31bhp     150Nm          16   \n",
       "2              24             1199         84bhp     114Nm          14   \n",
       "3              19             1197      81.86bhp  113.75Nm          14   \n",
       "4              24             1248       88.5bhp     200Nm          16   \n",
       "\n",
       "  Battery_Type  Kilometers_Driven  Number_of_Owners  \\\n",
       "0    Hatchback             120000                 3   \n",
       "1          SUV              32706                 2   \n",
       "2    Hatchback              11949                 1   \n",
       "3        Sedan              17794                 1   \n",
       "4          SUV              60000                 1   \n",
       "\n",
       "  Original_Equipment_Manufacturer           Car_Model  Model_Year  \\\n",
       "0                          Maruti      Maruti Celerio        2015   \n",
       "1                            Ford       Ford Ecosport        2018   \n",
       "2                            Tata          Tata Tiago        2018   \n",
       "3                         Hyundai       Hyundai Xcent        2014   \n",
       "4                          Maruti  Maruti SX4 S Cross        2015   \n",
       "\n",
       "   Central_Variant_ID              Variant_Name  Listed_Price  Actual_Price  \\\n",
       "0                3979                       VXI        400000        427093   \n",
       "1                6087  1.5 Petrol Titanium BSIV        811000        838093   \n",
       "2                2983           1.2 Revotron XZ        585000        612093   \n",
       "3                1867        1.2 Kappa S Option        462000        489093   \n",
       "4                4277             DDiS 200 Zeta        790000        817093   \n",
       "\n",
       "        city  \n",
       "0  bangalore  \n",
       "1  bangalore  \n",
       "2  bangalore  \n",
       "3  bangalore  \n",
       "4  bangalore  "
      ]
     },
     "execution_count": 87,
     "metadata": {},
     "output_type": "execute_result"
    }
   ],
   "source": [
    "df.iloc[:, 11:].head()"
   ]
  },
  {
   "cell_type": "code",
   "execution_count": 88,
   "metadata": {},
   "outputs": [
    {
     "data": {
      "text/plain": [
       "Insurance_Validity_Period            0\n",
       "Fuel_Type                            0\n",
       "Number_of_Seats                      0\n",
       "Regional_Transport_Office            0\n",
       "Transmission_Type                    0\n",
       "Top_Features                         0\n",
       "Comfort_and_Convenience             13\n",
       "Interior_Features                   16\n",
       "Exterior_Features                   20\n",
       "Safety_Features                     21\n",
       "Entertainment_and_Communication    135\n",
       "Mileage_(km/l)                       0\n",
       "Engine_Capacity                      0\n",
       "Maximum_Power                       15\n",
       "Torque                              15\n",
       "Wheel_Size                           0\n",
       "Battery_Type                         0\n",
       "Kilometers_Driven                    0\n",
       "Number_of_Owners                     0\n",
       "Original_Equipment_Manufacturer      0\n",
       "Car_Model                            0\n",
       "Model_Year                           0\n",
       "Central_Variant_ID                   0\n",
       "Variant_Name                         0\n",
       "Listed_Price                         0\n",
       "Actual_Price                         0\n",
       "city                                 0\n",
       "dtype: int64"
      ]
     },
     "execution_count": 88,
     "metadata": {},
     "output_type": "execute_result"
    }
   ],
   "source": [
    "df.isna().sum()"
   ]
  },
  {
   "cell_type": "code",
   "execution_count": 89,
   "metadata": {},
   "outputs": [
    {
     "data": {
      "text/plain": [
       "np.int64(0)"
      ]
     },
     "execution_count": 89,
     "metadata": {},
     "output_type": "execute_result"
    }
   ],
   "source": [
    "df['Engine_Capacity'].isnull().sum()"
   ]
  },
  {
   "cell_type": "code",
   "execution_count": 90,
   "metadata": {},
   "outputs": [
    {
     "data": {
      "text/html": [
       "<div>\n",
       "<style scoped>\n",
       "    .dataframe tbody tr th:only-of-type {\n",
       "        vertical-align: middle;\n",
       "    }\n",
       "\n",
       "    .dataframe tbody tr th {\n",
       "        vertical-align: top;\n",
       "    }\n",
       "\n",
       "    .dataframe thead th {\n",
       "        text-align: right;\n",
       "    }\n",
       "</style>\n",
       "<table border=\"1\" class=\"dataframe\">\n",
       "  <thead>\n",
       "    <tr style=\"text-align: right;\">\n",
       "      <th></th>\n",
       "      <th>Insurance_Validity_Period</th>\n",
       "      <th>Fuel_Type</th>\n",
       "      <th>Number_of_Seats</th>\n",
       "      <th>Regional_Transport_Office</th>\n",
       "      <th>Transmission_Type</th>\n",
       "      <th>Top_Features</th>\n",
       "      <th>Comfort_and_Convenience</th>\n",
       "      <th>Interior_Features</th>\n",
       "      <th>Exterior_Features</th>\n",
       "      <th>Safety_Features</th>\n",
       "      <th>...</th>\n",
       "      <th>Kilometers_Driven</th>\n",
       "      <th>Number_of_Owners</th>\n",
       "      <th>Original_Equipment_Manufacturer</th>\n",
       "      <th>Car_Model</th>\n",
       "      <th>Model_Year</th>\n",
       "      <th>Central_Variant_ID</th>\n",
       "      <th>Variant_Name</th>\n",
       "      <th>Listed_Price</th>\n",
       "      <th>Actual_Price</th>\n",
       "      <th>city</th>\n",
       "    </tr>\n",
       "  </thead>\n",
       "  <tbody>\n",
       "  </tbody>\n",
       "</table>\n",
       "<p>0 rows × 27 columns</p>\n",
       "</div>"
      ],
      "text/plain": [
       "Empty DataFrame\n",
       "Columns: [Insurance_Validity_Period, Fuel_Type, Number_of_Seats, Regional_Transport_Office, Transmission_Type, Top_Features, Comfort_and_Convenience, Interior_Features, Exterior_Features, Safety_Features, Entertainment_and_Communication, Mileage_(km/l), Engine_Capacity, Maximum_Power, Torque, Wheel_Size, Battery_Type, Kilometers_Driven, Number_of_Owners, Original_Equipment_Manufacturer, Car_Model, Model_Year, Central_Variant_ID, Variant_Name, Listed_Price, Actual_Price, city]\n",
       "Index: []\n",
       "\n",
       "[0 rows x 27 columns]"
      ]
     },
     "execution_count": 90,
     "metadata": {},
     "output_type": "execute_result"
    }
   ],
   "source": [
    "df[df['Engine_Capacity'].isnull()]"
   ]
  },
  {
   "cell_type": "code",
   "execution_count": 91,
   "metadata": {},
   "outputs": [
    {
     "data": {
      "text/plain": [
       "array(['67.04bhp', '121.31bhp', '84bhp', '81.86bhp', '88.5bhp', '170bhp',\n",
       "       '67bhp', '118.35bhp', '103.25bhp', '83.1bhp', '88.7bhp',\n",
       "       '83.83bhp', '140bhp', '187.74bhp', '88.76bhp', '117.3bhp', '177 ',\n",
       "       '88.50bhp', '104.55bhp', '453.26bhp', '68bhp', '62.1bhp',\n",
       "       '194.4bhp', '174.33bhp', '167.67bhp', '103bhp', '194bhp',\n",
       "       '248.08bhp', '171 PS ', '108.5bhp', '81.83bhp', '88.73bhp',\n",
       "       '147.5bhp', '47.33bhp', '120bhp', '189.08bhp', '138.08bhp',\n",
       "       '281.61bhp', '46.3bhp', '254.8bhp', '241.4bhp', '83 PS ',\n",
       "       '65.71bhp', '103.52bhp', '120.69bhp', '126.2bhp', '74bhp',\n",
       "       '188bhp', '178bhp', '85.80bhp', '118.36bhp', '116.3bhp',\n",
       "       '103.6bhp', '108.6bhp', '70bhp', '82.85bhp', '77bhp', '68.05bhp',\n",
       "       '190bhp', '141bhp', '86.8bhp', '81.80bhp', '67.1bhp', '71.01bhp',\n",
       "       '55.2bhp', '103.2bhp', '105.5bhp', '167.68bhp', '156.9bhp',\n",
       "       '121.3bhp', '138.12bhp', '147.94bhp', '170 ', '160.77bhp',\n",
       "       '138.1bhp', '78.9bhp', '102.57bhp', '174.3bhp',\n",
       "       '80 PS at 5200 rpm', '197bhp', '113.42bhp', '82bhp', '258bhp',\n",
       "       '181bhp', '182.46bhp', '174.5bhp', '108.45bhp', '117.6bhp',\n",
       "       '103.5bhp', '158.8bhp', '121.36bhp', '88.8bhp', '160.92bhp',\n",
       "       '130.1bhp', '194.3bhp', '254.79bhp', '100.5bhp', '83.8bhp',\n",
       "       '110.4bhp', '90 PS ', '98.6bhp', '184bhp', '98.96bhp', '203bhp',\n",
       "       '87.2bhp', '100.6bhp', '91.1bhp', '70 ', '261.50bhp', '115 ',\n",
       "       '187.7bhp', '108.62bhp', '143bhp', '113.98bhp', '215 ',\n",
       "       '108.49bhp', '93.7bhp', '67.05bhp', '167.62bhp', '85.8bhp',\n",
       "       '115bhp', '94 PS ', '73.9bhp', '83.14bhp', '120.7bhp', '197.2bhp',\n",
       "       '106', '177.46bhp', '112bhp', '218 ', '152.87bhp', '75.10bhp',\n",
       "       '168.5bhp', '102', '105.94bhp', '153.866bhp', '98.63bhp',\n",
       "       '113.45bhp', '187.40bhp', '98.59bhp', '113.18bhp', '102.53bhp',\n",
       "       '80 ', '117.60bhp', '163.2', '65bhp', '73.94bhp', '120.33bhp',\n",
       "       '94.93bhp', '67.06bhp', '126.32bhp', '153.86bhp', '261.49bhp',\n",
       "       '83.81bhp', '119.35bhp', '177bhp', '104.5bhp', nan, '84.82bhp',\n",
       "       '203.2bhp', '103.26bhp', '113.43bhp', '160bhp', '150bhp', '136bhp',\n",
       "       '187.4bhp', '25.4bhp', '41.42bhp', '70.02bhp', '35 bhp ',\n",
       "       '138.03bhp', '86.83bhp', '141.04bhp', '86.76bhp', '69bhp',\n",
       "       '163.7bhp', '71bhp', '163.60bhp', '127bhp', '100 bhp ', '88.2',\n",
       "       '61 PS ', '74.02bhp', '89.84bhp', '171.5bhp', '147.9bhp',\n",
       "       '164.7bhp', '145hp', '100bhp', '79.4bhp', '52.8bhp', '72.41bhp',\n",
       "       '174.33', '182.38bhp', '103.2 PS at 5500 RPM', '60 PS ', '148bhp',\n",
       "       '71.02bhp', '88 PS ', '78 ', '136.78bhp', '92',\n",
       "       '112bhp at 3800 rpm', '116.4bhp', '63bhp', '177.6bhp', '115.05bhp',\n",
       "       '167.6bhp', '47.3bhp', '61.68bhp', '86.63bhp', '85.7bhp',\n",
       "       '246.74bhp', '62bhp', '118.41bhp', '72.4bhp', '335.25bhp', '75',\n",
       "       '73.75bhp', '40bhp', '93 PS ', '80.46bhp', '35 bhp', '147.8bhp',\n",
       "       '161.6 ', '68', '101 ', '126.3bhp', '157.75bhp', '75.09bhp',\n",
       "       '75bhp', '112.2 ', '101.65bhp', '110bhp', '204bhp', '53.64bhp',\n",
       "       '138.05bhp', '260.0 ', '73.8bhp', '37.5bhp', '72bhp', '110.5bhp',\n",
       "       '118PS at 6,600 rpm', '130bhp', '121bhp', '70', '379.7bhp',\n",
       "       '70 bhp at 4000 rpm', '120 ', '86.7bhp', '53.26bhp', '84.8bhp',\n",
       "       '94 ', '126.24bhp', '68 ', '384.87bhp', '48.21bhp', '201.1bhp',\n",
       "       '57 ', '123.24bhp', '138bhp', '172.35bhp', '105bhp', '173bhp',\n",
       "       '84bhp3750rpm', '200bhp', '177.5bhp', '94.68bhp', '147.51bhp',\n",
       "       '245bhp', '99.23bhp', '158.79bhp', '197.26bhp', '118.3bhp',\n",
       "       '296bhp', '40.36bhp', '91.7bhp', '241.38bhp', '78 kW ', '104.68'],\n",
       "      dtype=object)"
      ]
     },
     "execution_count": 91,
     "metadata": {},
     "output_type": "execute_result"
    }
   ],
   "source": [
    "df['Maximum_Power'].unique()"
   ]
  },
  {
   "cell_type": "code",
   "execution_count": 92,
   "metadata": {},
   "outputs": [
    {
     "data": {
      "text/plain": [
       "array(['bhp', nan, 'PS', 'hp', 'kW'], dtype=object)"
      ]
     },
     "execution_count": 92,
     "metadata": {},
     "output_type": "execute_result"
    }
   ],
   "source": [
    "df['Maximum_Power'].str.extract(r'([A-Za-z]+)', expand=False).unique()"
   ]
  },
  {
   "cell_type": "code",
   "execution_count": 93,
   "metadata": {},
   "outputs": [],
   "source": [
    "def convert_to_bhp(value):\n",
    "    value = str(value).strip()\n",
    "    \n",
    "    # Extract numeric value\n",
    "    numeric_value = re.sub(r'[^\\d.]+', '', value)\n",
    "    \n",
    "    # Conversion factors\n",
    "    ps_to_bhp = 0.986\n",
    "    kw_to_bhp = 1.341\n",
    "    \n",
    "    if 'PS' in value:\n",
    "        return float(numeric_value) * ps_to_bhp\n",
    "    elif 'kW' in value:\n",
    "        return float(numeric_value) * kw_to_bhp\n",
    "    elif 'bhp' in value:\n",
    "        return float(numeric_value)\n",
    "    else:\n",
    "        try:\n",
    "            return float(numeric_value)  # Default case for numeric values with no unit\n",
    "        except ValueError:\n",
    "            return np.nan  # Return NaN for any unrecognized format\n"
   ]
  },
  {
   "cell_type": "code",
   "execution_count": 94,
   "metadata": {},
   "outputs": [],
   "source": [
    " #Apply the conversion function to the 'Maximum_Power' column\n",
    "df['Maximum_Power'] = df['Maximum_Power'].apply(convert_to_bhp)"
   ]
  },
  {
   "cell_type": "code",
   "execution_count": 95,
   "metadata": {},
   "outputs": [],
   "source": [
    "df['Maximum_Power'] = df['Maximum_Power'].fillna(df['Maximum_Power'].mean())"
   ]
  },
  {
   "cell_type": "code",
   "execution_count": 96,
   "metadata": {},
   "outputs": [],
   "source": [
    "df['Maximum_Power']=df['Maximum_Power'].fillna(0)"
   ]
  },
  {
   "cell_type": "code",
   "execution_count": 97,
   "metadata": {},
   "outputs": [
    {
     "data": {
      "text/plain": [
       "np.int64(0)"
      ]
     },
     "execution_count": 97,
     "metadata": {},
     "output_type": "execute_result"
    }
   ],
   "source": [
    "df['Maximum_Power'].isnull().sum()"
   ]
  },
  {
   "cell_type": "code",
   "execution_count": 98,
   "metadata": {},
   "outputs": [
    {
     "data": {
      "text/plain": [
       "Insurance_Validity_Period            0\n",
       "Fuel_Type                            0\n",
       "Number_of_Seats                      0\n",
       "Regional_Transport_Office            0\n",
       "Transmission_Type                    0\n",
       "Top_Features                         0\n",
       "Comfort_and_Convenience             13\n",
       "Interior_Features                   16\n",
       "Exterior_Features                   20\n",
       "Safety_Features                     21\n",
       "Entertainment_and_Communication    135\n",
       "Mileage_(km/l)                       0\n",
       "Engine_Capacity                      0\n",
       "Maximum_Power                        0\n",
       "Torque                              15\n",
       "Wheel_Size                           0\n",
       "Battery_Type                         0\n",
       "Kilometers_Driven                    0\n",
       "Number_of_Owners                     0\n",
       "Original_Equipment_Manufacturer      0\n",
       "Car_Model                            0\n",
       "Model_Year                           0\n",
       "Central_Variant_ID                   0\n",
       "Variant_Name                         0\n",
       "Listed_Price                         0\n",
       "Actual_Price                         0\n",
       "city                                 0\n",
       "dtype: int64"
      ]
     },
     "execution_count": 98,
     "metadata": {},
     "output_type": "execute_result"
    }
   ],
   "source": [
    "df.isna().sum()\n"
   ]
  },
  {
   "cell_type": "code",
   "execution_count": 99,
   "metadata": {},
   "outputs": [
    {
     "data": {
      "text/plain": [
       "np.int64(15)"
      ]
     },
     "execution_count": 99,
     "metadata": {},
     "output_type": "execute_result"
    }
   ],
   "source": [
    "df['Torque'].isnull().sum()"
   ]
  },
  {
   "cell_type": "code",
   "execution_count": 100,
   "metadata": {},
   "outputs": [],
   "source": [
    "df['Torque'] = df['Torque'].str.replace('Nm','',regex = False).str.strip().str.replace('nm','',regex = False).str.strip()"
   ]
  },
  {
   "cell_type": "code",
   "execution_count": 101,
   "metadata": {},
   "outputs": [
    {
     "data": {
      "text/plain": [
       "dtype('O')"
      ]
     },
     "execution_count": 101,
     "metadata": {},
     "output_type": "execute_result"
    }
   ],
   "source": [
    "df['Torque'].dtype"
   ]
  },
  {
   "cell_type": "code",
   "execution_count": 102,
   "metadata": {},
   "outputs": [],
   "source": [
    "df['Torque'] = pd.to_numeric(df['Torque'], errors='coerce')"
   ]
  },
  {
   "cell_type": "code",
   "execution_count": 103,
   "metadata": {},
   "outputs": [],
   "source": [
    "df['Torque'] = df['Torque'].fillna(df['Torque'].mean())\n"
   ]
  },
  {
   "cell_type": "code",
   "execution_count": 104,
   "metadata": {},
   "outputs": [
    {
     "data": {
      "text/plain": [
       "dtype('float64')"
      ]
     },
     "execution_count": 104,
     "metadata": {},
     "output_type": "execute_result"
    }
   ],
   "source": [
    "df['Torque'].dtype"
   ]
  },
  {
   "cell_type": "code",
   "execution_count": 105,
   "metadata": {},
   "outputs": [
    {
     "data": {
      "text/plain": [
       "np.int64(0)"
      ]
     },
     "execution_count": 105,
     "metadata": {},
     "output_type": "execute_result"
    }
   ],
   "source": [
    "df['Torque'].isnull().sum()"
   ]
  },
  {
   "cell_type": "code",
   "execution_count": 132,
   "metadata": {},
   "outputs": [
    {
     "data": {
      "text/plain": [
       "Insurance_Validity_Period          0\n",
       "Fuel_Type                          0\n",
       "Number_of_Seats                    0\n",
       "Regional_Transport_Office          0\n",
       "Transmission_Type                  0\n",
       "Top_Features                       0\n",
       "Comfort_and_Convenience            0\n",
       "Interior_Features                  0\n",
       "Exterior_Features                  0\n",
       "Safety_Features                    0\n",
       "Entertainment_and_Communication    0\n",
       "Mileage_(km/l)                     0\n",
       "Engine_Capacity                    0\n",
       "Maximum_Power                      0\n",
       "Torque                             0\n",
       "Wheel_Size                         0\n",
       "Battery_Type                       0\n",
       "Kilometers_Driven                  0\n",
       "Number_of_Owners                   0\n",
       "Original_Equipment_Manufacturer    0\n",
       "Car_Model                          0\n",
       "Model_Year                         0\n",
       "Central_Variant_ID                 0\n",
       "Variant_Name                       0\n",
       "Listed_Price                       0\n",
       "Actual_Price                       0\n",
       "city                               0\n",
       "dtype: int64"
      ]
     },
     "execution_count": 132,
     "metadata": {},
     "output_type": "execute_result"
    }
   ],
   "source": [
    "df.isna().sum()"
   ]
  },
  {
   "cell_type": "code",
   "execution_count": 122,
   "metadata": {},
   "outputs": [
    {
     "data": {
      "text/plain": [
       "Entertainment_and_Communication\n",
       "['Cd Player', 'Radio', 'Speakers Front', 'Speakers Rear']                                                                                                                                         108\n",
       "['Cd Player', 'Radio', 'Speakers Front', 'Speakers Rear', 'Integrated2Din Audio', 'Usb Auxiliary Input', 'Bluetooth']                                                                             104\n",
       "['Cd Player', 'Radio', 'Speakers Front', 'Speakers Rear', 'Integrated2Din Audio', 'Usb Auxiliary Input', 'Bluetooth', 'Touch Screen', 'Number Of Speaker']                                         83\n",
       "['Cd Player', 'Radio', 'Speakers Front', 'Speakers Rear', 'Integrated2Din Audio', 'Usb Auxiliary Input', 'Bluetooth', 'Number Of Speaker']                                                         65\n",
       "['Radio', 'Speakers Front', 'Speakers Rear', 'Integrated2Din Audio', 'Usb Auxiliary Input', 'Bluetooth', 'Touch Screen', 'Number Of Speaker']                                                      60\n",
       "                                                                                                                                                                                                 ... \n",
       "['Integrated2Din Audio', 'Usb Auxiliary Input', 'Bluetooth', 'Touch Screen']                                                                                                                        1\n",
       "['Speakers Front', 'Speakers Rear', 'Usb Auxiliary Input', 'Bluetooth', 'Touch Screen', 'Number Of Speaker', 'Touch Screen Size', 'Apple Car Play', 'Android Auto', 'Wireless Phone Charging']      1\n",
       "['Cd Player', 'Dvd Player', 'Radio', 'Audio System Remote Control', 'Speakers Front', 'Speakers Rear', 'Integrated2Din Audio', 'Usb Auxiliary Input', 'Bluetooth']                                  1\n",
       "['Cd Player', 'Radio', 'Audio System Remote Control', 'Speakers Front', 'Speakers Rear', 'Integrated2Din Audio', 'Usb Auxiliary Input']                                                             1\n",
       "['Cd Player', 'Radio', 'Speakers Front', 'Speakers Rear', 'Number Of Speaker']                                                                                                                      1\n",
       "Name: count, Length: 162, dtype: int64"
      ]
     },
     "execution_count": 122,
     "metadata": {},
     "output_type": "execute_result"
    }
   ],
   "source": [
    "df['Entertainment_and_Communication'].value_counts(sort=True)"
   ]
  },
  {
   "cell_type": "code",
   "execution_count": 123,
   "metadata": {},
   "outputs": [
    {
     "name": "stderr",
     "output_type": "stream",
     "text": [
      "C:\\Users\\Green Gen Tech\\AppData\\Local\\Temp\\ipykernel_1040\\1800411979.py:1: FutureWarning: Series.__getitem__ treating keys as positions is deprecated. In a future version, integer keys will always be treated as labels (consistent with DataFrame behavior). To access a value by position, use `ser.iloc[pos]`\n",
      "  df['Entertainment_and_Communication'] = df['Entertainment_and_Communication'].fillna(df['Entertainment_and_Communication'].value_counts()[0])\n"
     ]
    }
   ],
   "source": [
    "df['Entertainment_and_Communication'] = df['Entertainment_and_Communication'].fillna(df['Entertainment_and_Communication'].value_counts()[0])"
   ]
  },
  {
   "cell_type": "code",
   "execution_count": 125,
   "metadata": {},
   "outputs": [],
   "source": [
    "columns_to_encode = ['Comfort_and_Convenience', 'Interior_Features', 'Exterior_Features', 'Safety_Features', 'Entertainment_and_Communication']\n"
   ]
  },
  {
   "cell_type": "code",
   "execution_count": 126,
   "metadata": {},
   "outputs": [],
   "source": [
    "df_encoded = pd.get_dummies(df, columns=columns_to_encode)\n"
   ]
  },
  {
   "cell_type": "code",
   "execution_count": 133,
   "metadata": {},
   "outputs": [],
   "source": [
    "df.to_excel('preprocessed_bangalore_cars.xlsx', index=False)\n"
   ]
  }
 ],
 "metadata": {
  "kernelspec": {
   "display_name": "venv",
   "language": "python",
   "name": "python3"
  },
  "language_info": {
   "codemirror_mode": {
    "name": "ipython",
    "version": 3
   },
   "file_extension": ".py",
   "mimetype": "text/x-python",
   "name": "python",
   "nbconvert_exporter": "python",
   "pygments_lexer": "ipython3",
   "version": "3.12.3"
  }
 },
 "nbformat": 4,
 "nbformat_minor": 2
}
