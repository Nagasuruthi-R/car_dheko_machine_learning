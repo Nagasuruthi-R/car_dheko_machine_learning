{
 "cells": [
  {
   "cell_type": "code",
   "execution_count": 85,
   "metadata": {},
   "outputs": [],
   "source": [
    "import pandas as pd\n",
    "import ast\n",
    "import glob\n",
    "import os"
   ]
  },
  {
   "cell_type": "code",
   "execution_count": 86,
   "metadata": {},
   "outputs": [],
   "source": [
    "file_paths = glob.glob(os.path.join('../raw_data/', '*.xlsx'))"
   ]
  },
  {
   "cell_type": "code",
   "execution_count": 87,
   "metadata": {},
   "outputs": [],
   "source": [
    "# Expand 'top' field\n",
    "def expand_top(top_list):\n",
    "    return [item['value'] for item in top_list]\n",
    " "
   ]
  },
  {
   "cell_type": "code",
   "execution_count": 88,
   "metadata": {},
   "outputs": [],
   "source": [
    "# Expand 'data' field\n",
    "def expand_data(data_list):\n",
    "    expanded_data = {}\n",
    "    for item in data_list:\n",
    "        heading = item['heading']\n",
    "        expanded_data[heading] = [feature['value'] for feature in item['list']]\n",
    "    return expanded_data"
   ]
  },
  {
   "cell_type": "code",
   "execution_count": 89,
   "metadata": {},
   "outputs": [],
   "source": [
    "def normalize_data(df):\n",
    "\n",
    "    # Extract 'top' features\n",
    "    df['top_features'] = df['new_car_feature'].apply(lambda x: expand_top(x['top']))\n",
    "\n",
    "    # Extract 'data' features\n",
    "    data_features = df['new_car_feature'].apply(lambda x: expand_data(x['data']))\n",
    "\n",
    "    # Normalize 'data_features' and concatenate with 'top_features'\n",
    "    data_features_df = pd.json_normalize(data_features)\n",
    "\n",
    "    # Concatenate 'top_features' and 'data_features_df'\n",
    "    top_feature_df = pd.concat([df[['top_features']], data_features_df], axis=1)\n",
    "\n",
    "    return top_feature_df"
   ]
  },
  {
   "cell_type": "code",
   "execution_count": 90,
   "metadata": {},
   "outputs": [],
   "source": [
    "def car_spec_data_generation(df, new_car_detail_flag = False):\n",
    "    rows = []\n",
    "    for index, row in df.iterrows():\n",
    "        # Extract the 'top' list from the row\n",
    "        if not new_car_detail_flag:\n",
    "            top_list = row['top']\n",
    "        \n",
    "            # Create a dictionary for the current row\n",
    "            columns_dict = {item['key']: item['value'] for item in top_list}\n",
    "            # Append the dictionary to the list of rows\n",
    "            rows.append(columns_dict)\n",
    "        else:\n",
    "            rows.append(row)\n",
    "        \n",
    "\n",
    "    car_overview = pd.DataFrame(rows)\n",
    "    return car_overview"
   ]
  },
  {
   "cell_type": "code",
   "execution_count": 91,
   "metadata": {},
   "outputs": [],
   "source": [
    "def combine_multiple_dfs(new_car_overview_df, new_car_feature_df, new_car_specs_df, new_car_detail_df):\n",
    "    car_overview =new_car_overview_df.reset_index(drop = True)\n",
    "    top_feature_df = new_car_feature_df.reset_index(drop = True)\n",
    "    car_specs = new_car_specs_df.reset_index(drop = True)\n",
    "    newcar_details = new_car_detail_df.reset_index(drop = True)\n",
    "\n",
    "    final_df_combined = pd.concat([car_overview, top_feature_df, car_specs, newcar_details], axis = 1)\n",
    "\n",
    "    return final_df_combined"
   ]
  },
  {
   "cell_type": "code",
   "execution_count": 92,
   "metadata": {},
   "outputs": [],
   "source": [
    "def cleaned_final_df(final_df_combined, rename_dict):\n",
    "\n",
    "    # drop duplicate columns with same values\n",
    "    final_df_combined = final_df_combined.loc[:, ~final_df_combined.columns.duplicated()]\n",
    "\n",
    "    unwanted_columns = ['Registration Year', 'transmission', 'Kms Driven', 'Engine Displacement', 'trendingText.imgUrl', 'trendingText.heading', 'trendingText.desc', 'priceFixedText', \n",
    "                    'owner', 'it', 'ft', 'Ownership', 'Year of Manufacture']\n",
    "    \n",
    "    cars_df = final_df_combined.drop(columns=unwanted_columns)\n",
    "\n",
    "    cars_df.rename(columns=rename_dict, inplace=True)\n",
    "\n",
    "    return cars_df"
   ]
  },
  {
   "cell_type": "code",
   "execution_count": 93,
   "metadata": {},
   "outputs": [],
   "source": [
    "# Complete mapping dictionary\n",
    "rename_dict = {\n",
    "    'Insurance Validity': 'Insurance_Validity_Period',\n",
    "    'Fuel Type': 'Fuel_Type',\n",
    "    'Seats': 'Number_of_Seats',\n",
    "    'RTO': 'Regional_Transport_Office',\n",
    "    'Transmission': 'Transmission_Type',\n",
    "    'top_features': 'Top_Features',\n",
    "    'Comfort & Convenience': 'Comfort_and_Convenience',\n",
    "    'Interior': 'Interior_Features',\n",
    "    'Exterior': 'Exterior_Features',\n",
    "    'Safety': 'Safety_Features',\n",
    "    'Entertainment & Communication': 'Entertainment_and_Communication',\n",
    "    'Mileage': 'Mileage_(km/l)',\n",
    "    'Engine': 'Engine_Capacity',\n",
    "    'Max Power': 'Maximum_Power',\n",
    "    'Torque': 'Torque',\n",
    "    'Wheel Size': 'Wheel_Size',\n",
    "    'bt': 'Battery_Type',\n",
    "    'km': 'Kilometers_Driven',\n",
    "    'ownerNo': 'Number_of_Owners',\n",
    "    'oem': 'Original_Equipment_Manufacturer',\n",
    "    'model': 'Car_Model',\n",
    "    'modelYear': 'Model_Year',\n",
    "    'centralVariantId': 'Central_Variant_ID',\n",
    "    'variantName': 'Variant_Name',\n",
    "    'price': 'Listed_Price',\n",
    "    'priceActual': 'Actual_Price',\n",
    "    'priceSaving': 'Price_Saving_Amount'\n",
    "}"
   ]
  },
  {
   "cell_type": "code",
   "execution_count": 94,
   "metadata": {},
   "outputs": [],
   "source": [
    "def generate_structured_excel_data(file_paths):\n",
    "    for file in file_paths:\n",
    "        # get file name\n",
    "        base_name = os.path.basename(file)\n",
    "        file_name = os.path.splitext(base_name)[0].split('_')[0]\n",
    "        \n",
    "\n",
    "        df = pd.read_excel(file)\n",
    "\n",
    "        \n",
    "        # changing new_car_overview from Object to json format to structure the data\n",
    "        df['new_car_overview'] = df['new_car_overview'].apply(ast.literal_eval)\n",
    "        new_car_expanded = pd.json_normalize(df['new_car_overview'])\n",
    "        new_car_overview_df = car_spec_data_generation(new_car_expanded)\n",
    "\n",
    "        # changing new_car_feature from Object to json format to structure the data\n",
    "        df['new_car_feature'] = df['new_car_feature'].apply(ast.literal_eval)\n",
    "        #features_expanded = pd.json_normalize(df['new_car_feature'])\n",
    "        new_car_feature_df = normalize_data(df)\n",
    "\n",
    "        # changing new_car_specs from Object to json format to structure the data\n",
    "        df['new_car_specs'] = df['new_car_specs'].apply(ast.literal_eval)\n",
    "        specs_expanded = pd.json_normalize(df['new_car_specs'])\n",
    "        new_car_specs_df = car_spec_data_generation(specs_expanded)\n",
    "\n",
    "        # changing new_car_specs from Object to json format to structure the data\n",
    "        df['new_car_detail'] = df['new_car_detail'].apply(ast.literal_eval)\n",
    "        detail_expanded = pd.json_normalize(df['new_car_detail'])\n",
    "        new_car_detail_df = car_spec_data_generation(detail_expanded, new_car_detail_flag=True)\n",
    "\n",
    "        final_df_combined = combine_multiple_dfs(new_car_overview_df, new_car_feature_df, new_car_specs_df, new_car_detail_df)\n",
    "\n",
    "        car_specs = cleaned_final_df(final_df_combined, rename_dict)\n",
    "\n",
    "        car_specs.to_excel(f'../cleaned_data/{file_name}_cars_cleaned.xlsx', index= False)\n",
    "\n",
    "        print(f'Structured data created for {file_name}')\n"
   ]
  },
  {
   "cell_type": "code",
   "execution_count": 95,
   "metadata": {},
   "outputs": [
    {
     "name": "stdout",
     "output_type": "stream",
     "text": [
      "Structured date created for bangalore\n",
      "Structured date created for chennai\n",
      "Structured date created for delhi\n",
      "Structured date created for hyderabad\n",
      "Structured date created for jaipur\n",
      "Structured date created for kolkata\n"
     ]
    }
   ],
   "source": [
    "generate_structured_excel_data(file_paths)"
   ]
  },
  {
   "cell_type": "code",
   "execution_count": null,
   "metadata": {},
   "outputs": [],
   "source": []
  },
  {
   "cell_type": "code",
   "execution_count": null,
   "metadata": {},
   "outputs": [],
   "source": []
  },
  {
   "cell_type": "code",
   "execution_count": null,
   "metadata": {},
   "outputs": [],
   "source": []
  }
 ],
 "metadata": {
  "kernelspec": {
   "display_name": "venv",
   "language": "python",
   "name": "python3"
  },
  "language_info": {
   "codemirror_mode": {
    "name": "ipython",
    "version": 3
   },
   "file_extension": ".py",
   "mimetype": "text/x-python",
   "name": "python",
   "nbconvert_exporter": "python",
   "pygments_lexer": "ipython3",
   "version": "3.12.3"
  }
 },
 "nbformat": 4,
 "nbformat_minor": 2
}
