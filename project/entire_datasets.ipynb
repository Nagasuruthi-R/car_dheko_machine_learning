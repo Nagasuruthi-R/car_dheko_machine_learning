{
 "cells": [
  {
   "cell_type": "code",
   "execution_count": 5,
   "metadata": {},
   "outputs": [],
   "source": [
    "import pandas as pd\n",
    "import ast\n",
    "import glob\n",
    "import os\n",
    "\n",
    "import numpy as np\n",
    "import re\n",
    "from sklearn.preprocessing import OneHotEncoder, LabelEncoder, MinMaxScaler, StandardScaler\n",
    "import seaborn as sns\n",
    "import matplotlib.pyplot as plt"
   ]
  },
  {
   "cell_type": "code",
   "execution_count": 6,
   "metadata": {},
   "outputs": [],
   "source": [
    "file_paths = glob.glob(os.path.join('../cleaned_data/', '*.xlsx'))"
   ]
  },
  {
   "cell_type": "code",
   "execution_count": 48,
   "metadata": {},
   "outputs": [],
   "source": [
    "def Clean_third_party_insurance(df):\n",
    "    df['Insurance_Validity_Period']=df['Insurance_Validity_Period'].replace({\n",
    "        'Third Party insurance':'Third Party',\n",
    "        'Zero Dep':'Zero Depreciation',\n",
    "        np.nan:'Unknown',\n",
    "        'Not Available': 'Unknown',\n",
    "        '1': 'One Year',\n",
    "        '2':'Two Years'\n",
    "    })\n",
    "\n",
    "    return df\n",
    "    "
   ]
  },
  {
   "cell_type": "code",
   "execution_count": 49,
   "metadata": {},
   "outputs": [],
   "source": [
    "def Clean_number_of_seats(df):\n",
    "    \n",
    "    df['Number_of_Seats'] = df['Number_of_Seats'].str.replace('Seats', '',regex= False).str.strip()\n",
    "    df['Number_of_Seats'] = pd.to_numeric(df['Number_of_Seats'], errors='coerce')\n",
    "    mean_value = df['Number_of_Seats'].mean()\n",
    "    df['Number_of_Seats'] = df['Number_of_Seats'].fillna(mean_value)\n",
    "    df['Number_of_Seats'] = df['Number_of_Seats'].astype(int)\n",
    "    \n",
    "    return df"
   ]
  },
  {
   "cell_type": "code",
   "execution_count": 56,
   "metadata": {},
   "outputs": [],
   "source": [
    "def Clean_List_feature_columns(df):\n",
    "    df['Comfort_and_Convenience'] = df['Comfort_and_Convenience'].astype(str)\n",
    "    df['Comfort_and_Convenience'] = df['Comfort_and_Convenience'].fillna(\"unknown\")\n",
    "    df['Interior_Features'] = df['Interior_Features'].astype(str)\n",
    "    df['Interior_Features'] = df['Interior_Features'].fillna(\"unknown\")\n",
    "    df['Exterior_Features'] = df['Exterior_Features'].astype(str)\n",
    "    df['Exterior_Features'] = df['Exterior_Features'].fillna(\"unknown\")\n",
    "    df['Safety_Features'] = df['Safety_Features'].astype(str)\n",
    "    df['Safety_Features'] = df['Safety_Features'].fillna(\"unknown\")\n",
    "    df['Entertainment_and_Communication'] = df['Entertainment_and_Communication'].astype(str)\n",
    "    df['Entertainment_and_Communication'] = df['Entertainment_and_Communication'].fillna(\"unknown\")\n",
    "\n",
    "\n",
    "    return df"
   ]
  },
  {
   "cell_type": "code",
   "execution_count": 58,
   "metadata": {},
   "outputs": [],
   "source": [
    "# Correct the loop to iterate over each tuple correctly\n",
    "dfs = []\n",
    "for file_path in file_paths:\n",
    "\n",
    "    df = pd.read_excel(file_path)  # Load the data\n",
    "    df = df.drop(columns=['Regional_Transport_Office', 'Original_Equipment_Manufacturer', 'Central_Variant_ID', 'Variant_Name'])\n",
    "    df = Clean_third_party_insurance(df)\n",
    "    df = Clean_number_of_seats(df)\n",
    "    df = Clean_List_feature_columns(df)\n",
    "    dfs.append(df)  # Append the DataFrame to the list\n",
    "    \n",
    "\n",
    "# Concatenate all DataFrames into one\n",
    "combined_df = pd.concat(dfs, ignore_index=True)"
   ]
  },
  {
   "cell_type": "code",
   "execution_count": 59,
   "metadata": {},
   "outputs": [
    {
     "data": {
      "text/plain": [
       "Insurance_Validity_Period             0\n",
       "Fuel_Type                             0\n",
       "Number_of_Seats                       0\n",
       "Transmission_Type                     0\n",
       "Top_Features                          0\n",
       "Comfort_and_Convenience               0\n",
       "Interior_Features                     0\n",
       "Exterior_Features                     0\n",
       "Safety_Features                       0\n",
       "Entertainment_and_Communication       0\n",
       "Mileage_(km/l)                      287\n",
       "Engine_Capacity                       4\n",
       "Maximum_Power                        60\n",
       "Torque                               60\n",
       "Wheel_Size                         2983\n",
       "Battery_Type                          4\n",
       "Kilometers_Driven                     0\n",
       "Number_of_Owners                      0\n",
       "Car_Model                             0\n",
       "Model_Year                            0\n",
       "Listed_Price                          0\n",
       "Actual_Price                          0\n",
       "city                                  0\n",
       "dtype: int64"
      ]
     },
     "execution_count": 59,
     "metadata": {},
     "output_type": "execute_result"
    }
   ],
   "source": [
    "combined_df.isnull().sum()"
   ]
  },
  {
   "cell_type": "code",
   "execution_count": 25,
   "metadata": {},
   "outputs": [
    {
     "data": {
      "text/plain": [
       "Number_of_Seats\n",
       "5 Seats     7354\n",
       "7 Seats      728\n",
       "6 Seats      103\n",
       "4 Seats       93\n",
       "8 Seats       62\n",
       "9 Seats       11\n",
       "2 Seats        7\n",
       "10 Seats       5\n",
       "Name: count, dtype: int64"
      ]
     },
     "execution_count": 25,
     "metadata": {},
     "output_type": "execute_result"
    }
   ],
   "source": [
    "combined_df['Number_of_Seats'].value_counts()"
   ]
  },
  {
   "cell_type": "code",
   "execution_count": null,
   "metadata": {},
   "outputs": [],
   "source": []
  }
 ],
 "metadata": {
  "kernelspec": {
   "display_name": "venv",
   "language": "python",
   "name": "python3"
  },
  "language_info": {
   "codemirror_mode": {
    "name": "ipython",
    "version": 3
   },
   "file_extension": ".py",
   "mimetype": "text/x-python",
   "name": "python",
   "nbconvert_exporter": "python",
   "pygments_lexer": "ipython3",
   "version": "3.12.3"
  }
 },
 "nbformat": 4,
 "nbformat_minor": 2
}
