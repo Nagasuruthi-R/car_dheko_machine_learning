{
 "cells": [
  {
   "cell_type": "code",
   "execution_count": 21,
   "metadata": {},
   "outputs": [],
   "source": [
    "import pandas as pd\n",
    "import ast\n",
    "import glob\n",
    "import os\n",
    "\n",
    "import numpy as np\n",
    "import re\n",
    "from sklearn.preprocessing import OneHotEncoder, LabelEncoder, MinMaxScaler, StandardScaler\n",
    "import seaborn as sns\n",
    "import matplotlib.pyplot as plt"
   ]
  },
  {
   "cell_type": "code",
   "execution_count": 22,
   "metadata": {},
   "outputs": [],
   "source": [
    "file_paths = glob.glob(os.path.join('../cleaned_data/', '*.xlsx'))"
   ]
  },
  {
   "cell_type": "code",
   "execution_count": 23,
   "metadata": {},
   "outputs": [],
   "source": [
    "def Clean_third_party_insurance(df):\n",
    "    df['Insurance_Validity_Period']=df['Insurance_Validity_Period'].replace({\n",
    "        'Third Party insurance':'Third Party',\n",
    "        'Zero Dep':'Zero Depreciation',\n",
    "        np.nan:'Unknown',\n",
    "        'Not Available': 'Unknown',\n",
    "        '1': 'One Year',\n",
    "        '2':'Two Years'\n",
    "    })\n",
    "\n",
    "    return df\n",
    "    "
   ]
  },
  {
   "cell_type": "code",
   "execution_count": 24,
   "metadata": {},
   "outputs": [],
   "source": [
    "def Clean_number_of_seats(df):\n",
    "    \n",
    "    df['Number_of_Seats'] = df['Number_of_Seats'].str.replace('Seats', '',regex= False).str.strip()\n",
    "    df['Number_of_Seats'] = pd.to_numeric(df['Number_of_Seats'], errors='coerce')\n",
    "    mean_value = df['Number_of_Seats'].mean()\n",
    "    df['Number_of_Seats'] = df['Number_of_Seats'].fillna(mean_value)\n",
    "    df['Number_of_Seats'] = df['Number_of_Seats'].astype(int)\n",
    "    \n",
    "    return df"
   ]
  },
  {
   "cell_type": "code",
   "execution_count": 25,
   "metadata": {},
   "outputs": [],
   "source": [
    "def Clean_engine_capacity(df):\n",
    "    df['Engine_Capacity'] = df['Engine_Capacity'].str.replace('CC', '', regex=False).str.strip()\n",
    "    df['Engine_Capacity'] = pd.to_numeric(df['Engine_Capacity'], errors='coerce')\n",
    "    df['Engine_Capacity'] = df.groupby('Car_Model')['Engine_Capacity'].transform(lambda x: x.fillna(x.mean()))\n",
    "    #print(\"Engine_Capacity nulls after cleaning:\", df['Engine_Capacity'].isnull().sum())\n",
    "    remaining_missing = df['Engine_Capacity'].isnull().sum()\n",
    "    if remaining_missing > 0:\n",
    "        global_mean = df['Engine_Capacity'].mean()\n",
    "        df['Engine_Capacity'].fillna(global_mean, inplace=True)\n",
    "    \n",
    "    df['Engine_Capacity'] = df['Engine_Capacity'].astype(float)\n",
    "    return df\n",
    "   \n",
    "    # def extract_first_numeric(value):\n",
    "    #     if isinstance(value, str):\n",
    "    #         numbers = re.findall(r'\\d+\\.?\\d*', value)  # Find all numeric sequences\n",
    "    #         return numbers[0] if numbers else np.nan\n",
    "    #     return np.nan\n",
    "    # df['Engine_Capacity'] = df['Engine_Capacity'].astype(str).apply(extract_first_numeric)\n",
    "    #return df"
   ]
  },
  {
   "cell_type": "code",
   "execution_count": null,
   "metadata": {},
   "outputs": [],
   "source": []
  },
  {
   "cell_type": "code",
   "execution_count": 26,
   "metadata": {},
   "outputs": [],
   "source": [
    "def Clean_List_feature_columns(df):\n",
    "    df['Comfort_and_Convenience'] = df['Comfort_and_Convenience'].astype(str)\n",
    "    df['Comfort_and_Convenience'] = df['Comfort_and_Convenience'].fillna(\"unknown\")\n",
    "    df['Interior_Features'] = df['Interior_Features'].astype(str)\n",
    "    df['Interior_Features'] = df['Interior_Features'].fillna(\"unknown\")\n",
    "    df['Exterior_Features'] = df['Exterior_Features'].astype(str)\n",
    "    df['Exterior_Features'] = df['Exterior_Features'].fillna(\"unknown\")\n",
    "    df['Safety_Features'] = df['Safety_Features'].astype(str)\n",
    "    df['Safety_Features'] = df['Safety_Features'].fillna(\"unknown\")\n",
    "    df['Entertainment_and_Communication'] = df['Entertainment_and_Communication'].astype(str)\n",
    "    df['Entertainment_and_Communication'] = df['Entertainment_and_Communication'].fillna(\"unknown\")\n",
    "\n",
    "\n",
    "    return df"
   ]
  },
  {
   "cell_type": "code",
   "execution_count": 27,
   "metadata": {},
   "outputs": [],
   "source": [
    "def Clean_Mileage(df):\n",
    "    df['Mileage_(km/l)'] = df['Mileage_(km/l)'].str.replace('kmpl','',regex = False).str.strip().str.replace('km/kg','',regex = False).str.strip()\n",
    "    df['Mileage_(km/l)'] = pd.to_numeric(df['Mileage_(km/l)'], errors='coerce')\n",
    "    overall_mean = df['Mileage_(km/l)'].mean()\n",
    "    df['Mileage_(km/l)'] = df['Mileage_(km/l)'].fillna(overall_mean)\n",
    "    return df"
   ]
  },
  {
   "cell_type": "code",
   "execution_count": 28,
   "metadata": {},
   "outputs": [],
   "source": [
    "def Clean_Maximum_Power(value):\n",
    "    value = str(value).strip()\n",
    "    \n",
    "    # Extract numeric value\n",
    "    numeric_value = re.sub(r'[^\\d.]+', '', value)\n",
    "    \n",
    "    # Conversion factors\n",
    "    ps_to_bhp = 0.986\n",
    "    kw_to_bhp = 1.341\n",
    "    \n",
    "    if 'PS' in value:\n",
    "        return float(numeric_value) * ps_to_bhp\n",
    "    elif 'kW' in value:\n",
    "        return float(numeric_value) * kw_to_bhp\n",
    "    elif 'bhp' in value:\n",
    "        return float(numeric_value)\n",
    "    else:\n",
    "        try:\n",
    "            return float(numeric_value)  # Default case for numeric values with no unit\n",
    "        except ValueError:\n",
    "            return np.nan  # Return NaN for any unrecognized format\n",
    "\n"
   ]
  },
  {
   "cell_type": "code",
   "execution_count": 29,
   "metadata": {},
   "outputs": [],
   "source": [
    "def Clean_torque(df):\n",
    "    df['Torque'] = df['Torque'].str.replace('Nm','',regex = False).str.strip().str.replace('nm','',regex = False).str.strip()\n",
    "    df['Torque'] = pd.to_numeric(df['Torque'], errors='coerce')\n",
    "    df['Torque'] = df['Torque'].fillna(df['Torque'].mean())\n",
    "    return df"
   ]
  },
  {
   "cell_type": "code",
   "execution_count": 30,
   "metadata": {},
   "outputs": [],
   "source": [
    "def Clean_wheel_size(df):\n",
    "    df['Wheel_Size'] = df['Wheel_Size'].str.replace('R','',regex = False).str.strip()\n",
    "    df['Wheel_Size'] = pd.to_numeric(df['Wheel_Size'], errors='coerce')\n",
    "    df['Wheel_Size'] = df['Wheel_Size'].fillna(df['Wheel_Size'].mean())\n",
    "    return df"
   ]
  },
  {
   "cell_type": "code",
   "execution_count": 31,
   "metadata": {},
   "outputs": [],
   "source": [
    "def Clean_Battery_type(df):\n",
    "    most_frequent_value = df['Battery_Type'].mode()[0]\n",
    "    df['Battery_Type'] = df['Battery_Type'].fillna(most_frequent_value)\n",
    "    return df"
   ]
  },
  {
   "cell_type": "code",
   "execution_count": 32,
   "metadata": {},
   "outputs": [
    {
     "name": "stderr",
     "output_type": "stream",
     "text": [
      "C:\\Users\\Green Gen Tech\\AppData\\Local\\Temp\\ipykernel_10652\\2010886589.py:9: FutureWarning: A value is trying to be set on a copy of a DataFrame or Series through chained assignment using an inplace method.\n",
      "The behavior will change in pandas 3.0. This inplace method will never work because the intermediate object on which we are setting values always behaves as a copy.\n",
      "\n",
      "For example, when doing 'df[col].method(value, inplace=True)', try using 'df.method({col: value}, inplace=True)' or df[col] = df[col].method(value) instead, to perform the operation inplace on the original object.\n",
      "\n",
      "\n",
      "  df['Engine_Capacity'].fillna(global_mean, inplace=True)\n"
     ]
    },
    {
     "name": "stdout",
     "output_type": "stream",
     "text": [
      "['bangalore' 'chennai' 'delhi' 'hyderabad' 'jaipur' 'kolkata']\n"
     ]
    }
   ],
   "source": [
    "# Correct the loop to iterate over each tuple correctly\n",
    "dfs = []\n",
    "for file_path in file_paths:\n",
    "    city = os.path.basename(file_path).split('_')[0]\n",
    "    df = pd.read_excel(file_path)\n",
    "    df['city'] = city\n",
    "    df = pd.read_excel(file_path)  # Load the data\n",
    "    df = df.drop(columns=['Regional_Transport_Office', 'Original_Equipment_Manufacturer', 'Central_Variant_ID', 'Variant_Name'])\n",
    "    df = Clean_third_party_insurance(df)\n",
    "    df = Clean_number_of_seats(df)\n",
    "    df = Clean_List_feature_columns(df)\n",
    "    df = Clean_engine_capacity(df)\n",
    "    df = Clean_Mileage(df)\n",
    "    df['Maximum_Power'] = df['Maximum_Power'].apply(Clean_Maximum_Power)\n",
    "    mean_value = df['Maximum_Power'].mean()\n",
    "    df['Maximum_Power'] = df['Maximum_Power'].fillna(mean_value)\n",
    "    df = Clean_torque(df)\n",
    "    df = Clean_wheel_size(df)\n",
    "    df = Clean_Battery_type(df)\n",
    "    dfs.append(df)  # Append the DataFrame to the list\n",
    "    \n",
    "\n",
    "# Concatenate all DataFrames into one\n",
    "combined_df = pd.concat(dfs, ignore_index=True)\n",
    "print(combined_df['city'].unique())"
   ]
  },
  {
   "cell_type": "code",
   "execution_count": 33,
   "metadata": {},
   "outputs": [
    {
     "data": {
      "text/plain": [
       "Insurance_Validity_Period          0\n",
       "Fuel_Type                          0\n",
       "Number_of_Seats                    0\n",
       "Transmission_Type                  0\n",
       "Top_Features                       0\n",
       "Comfort_and_Convenience            0\n",
       "Interior_Features                  0\n",
       "Exterior_Features                  0\n",
       "Safety_Features                    0\n",
       "Entertainment_and_Communication    0\n",
       "Mileage_(km/l)                     0\n",
       "Engine_Capacity                    0\n",
       "Maximum_Power                      0\n",
       "Torque                             0\n",
       "Wheel_Size                         0\n",
       "Battery_Type                       0\n",
       "Kilometers_Driven                  0\n",
       "Number_of_Owners                   0\n",
       "Car_Model                          0\n",
       "Model_Year                         0\n",
       "Listed_Price                       0\n",
       "Actual_Price                       0\n",
       "city                               0\n",
       "dtype: int64"
      ]
     },
     "execution_count": 33,
     "metadata": {},
     "output_type": "execute_result"
    }
   ],
   "source": [
    "combined_df.isnull().sum()"
   ]
  },
  {
   "cell_type": "code",
   "execution_count": 34,
   "metadata": {},
   "outputs": [
    {
     "data": {
      "text/plain": [
       "city\n",
       "delhi        1485\n",
       "hyderabad    1483\n",
       "bangalore    1481\n",
       "chennai      1419\n",
       "kolkata      1381\n",
       "jaipur       1120\n",
       "Name: count, dtype: int64"
      ]
     },
     "execution_count": 34,
     "metadata": {},
     "output_type": "execute_result"
    }
   ],
   "source": [
    "combined_df['city'].value_counts()"
   ]
  },
  {
   "cell_type": "code",
   "execution_count": 35,
   "metadata": {},
   "outputs": [
    {
     "data": {
      "text/plain": [
       "Insurance_Validity_Period           object\n",
       "Fuel_Type                           object\n",
       "Number_of_Seats                      int64\n",
       "Transmission_Type                   object\n",
       "Top_Features                        object\n",
       "Comfort_and_Convenience             object\n",
       "Interior_Features                   object\n",
       "Exterior_Features                   object\n",
       "Safety_Features                     object\n",
       "Entertainment_and_Communication     object\n",
       "Mileage_(km/l)                     float64\n",
       "Engine_Capacity                    float64\n",
       "Maximum_Power                      float64\n",
       "Torque                             float64\n",
       "Wheel_Size                         float64\n",
       "Battery_Type                        object\n",
       "Kilometers_Driven                   object\n",
       "Number_of_Owners                     int64\n",
       "Car_Model                           object\n",
       "Model_Year                           int64\n",
       "Listed_Price                       float64\n",
       "Actual_Price                       float64\n",
       "city                                object\n",
       "dtype: object"
      ]
     },
     "execution_count": 35,
     "metadata": {},
     "output_type": "execute_result"
    }
   ],
   "source": [
    "combined_df.dtypes"
   ]
  },
  {
   "cell_type": "code",
   "execution_count": 36,
   "metadata": {},
   "outputs": [],
   "source": [
    "# output_path = \"../preprocessed_cars/cleaned_entire_datasets.xlsx\"\n",
    "# os.makedirs(os.path.dirname(output_path), exist_ok=True)  # Ensure the directory exists\n",
    "# combined_df.to_excel(output_path, index=False)"
   ]
  },
  {
   "cell_type": "code",
   "execution_count": 37,
   "metadata": {},
   "outputs": [
    {
     "data": {
      "text/plain": [
       "Insurance_Validity_Period  Fuel_Type  Number_of_Seats  Transmission_Type  Top_Features                                                                                                                                                                                                 Comfort_and_Convenience                                                                                                                                                                                                                                                                                                                                                                                                                                                                                                                                                                   Interior_Features                                                                                                                                                                                                                                                                                            Exterior_Features                                                                                                                                                                                                                                                                                                                                                                                               Safety_Features                                                                                                                                                                                                                                                                                                                                                                                                                                                                                                                                                                                                                                                                                                                                       Entertainment_and_Communication                                                                                                                                                                                 Mileage_(km/l)  Engine_Capacity  Maximum_Power  Torque  Wheel_Size  Battery_Type  Kilometers_Driven  Number_of_Owners  Car_Model              Model_Year  Listed_Price  Actual_Price  city     \n",
       "Third Party                Diesel     5                Automatic          ['Power Steering', 'Power Windows Front', 'Air Conditioner', 'Heater', 'Adjustable Head Lights', 'Fog Lights Front', 'Anti Lock Braking System', 'Brake Assist', 'Cd Player']                                ['Power Steering', 'Power Windows Front', 'Power Windows Rear', 'Air Quality Control', 'Remote Trunk Opener', 'Remote Fuel Lid Opener', 'Low Fuel Warning Light', 'Accessory Power Outlet', 'Trunk Light', 'Vanity Mirror', 'Rear Reading Lamp', 'Rear Seat Headrest', 'Rear Seat Centre Arm Rest', 'Cup Holders Front', 'Cup Holders Rear', 'Seat Lumbar Support', 'Multifunction Steering Wheel', 'Cruise Control', 'Rear ACVents', 'Navigation System', 'Engine Start Stop Button', 'Voice Control', 'Steering Wheel Gearshift Paddles']                                               ['Air Conditioner', 'Heater', 'Adjustable Steering', 'Digital Odometer', 'Tachometer', 'Electronic Multi Tripmeter', 'Leather Seats', 'Leather Steering Wheel', 'Glove Compartment', 'Outside Temperature Display', 'Cigarette Lighter', 'Driving Experience Control Eco', 'Height Adjustable Driver Seat']  ['Adjustable Head Lights', 'Fog Lights Front', 'Fog Lights Rear', 'Power Adjustable Exterior Rear View Mirror', 'Electric Folding Rear View Mirror', 'Rain Sensing Wiper', 'Rear Window Defogger', 'Alloy Wheels', 'Integrated Antenna', 'Tinted Glass', 'Sun Roof', 'Moon Roof', 'Outside Rear View Mirror Turn Indicators', 'Chrome Grille', 'Chrome Garnish', 'Smoke Headlamps']                             ['Anti Lock Braking System', 'Brake Assist', 'Centeral Locking', 'Power Door Locks', 'Child Safety Locks', 'Driver Air Bag', 'Passenger Air Bag', 'Side Air Bag Front', 'Day Night Rear View Mirror', 'Passenger Side Rear View Mirror', 'Xenon Headlamps', 'Rear Seat Belts', 'Seat Belt Warning', 'Door Ajar Warning', 'Side Impact Beams', 'Front Impact Beams', 'Vehicle Stability Control System', 'Adjustable Seats', 'Keyless Entry', 'Centrally Mounted Fuel Tank', 'Engine Immobilizer', 'Tyre Pressure Monitor', 'Crash Sensor', 'Automatic Head Lamps', 'Ebd', 'Rear Camera', 'Anti Theft Device']                                                                                                                                         ['Cd Player', 'Radio', 'Speakers Front', 'Speakers Rear', 'Integrated2Din Audio', 'Usb Auxiliary Input', 'Bluetooth', 'Touch Screen']                                                                           19.27           2143.0           170.00         400.0   17.000000   Sedan         10,000             1                 Mercedes-Benz C-Class  2017        3200000.0     3.227093e+06  bangalore    3\n",
       "                           CNG        7                Manual             ['Power Steering', 'Power Windows Front', 'Air Conditioner', 'Heater', 'Adjustable Head Lights', 'Power Adjustable Exterior Rear View Mirror', 'Anti Lock Braking System', 'Brake Assist', 'Radio']          ['Power Steering', 'Power Windows Front', 'Power Windows Rear', 'Low Fuel Warning Light', 'Accessory Power Outlet', 'Trunk Light', 'Vanity Mirror', 'Rear Reading Lamp', 'Rear Seat Headrest', 'Rear Seat Centre Arm Rest', 'Cup Holders Front', 'Multifunction Steering Wheel', 'Rear ACVents', 'Gear Shift Indicator', 'Adjustable Headrest']                                                                                                                                                                                                                                           ['Air Conditioner', 'Heater', 'Adjustable Steering', 'Digital Odometer', 'Tachometer', 'Electronic Multi Tripmeter', 'Fabric Upholstery', 'Glove Compartment', 'Digital Clock', 'Dual Tone Dashboard']                                                                                                       ['Adjustable Head Lights', 'Power Adjustable Exterior Rear View Mirror', 'Electric Folding Rear View Mirror', 'Wheel Covers', 'Power Antenna', 'Rear Spoiler', 'Outside Rear View Mirror Turn Indicators', 'Chrome Grille', 'LEDTaillights', 'Projector Headlamps', 'Halogen Headlamps']                                                                                                                        ['Anti Lock Braking System', 'Brake Assist', 'Centeral Locking', 'Power Door Locks', 'Child Safety Locks', 'Anti Theft Alarm', 'Driver Air Bag', 'Passenger Air Bag', 'Day Night Rear View Mirror', 'Passenger Side Rear View Mirror', 'Halogen Headlamps', 'Rear Seat Belts', 'Seat Belt Warning', 'Door Ajar Warning', 'Side Impact Beams', 'Front Impact Beams', 'Adjustable Seats', 'Keyless Entry', 'Centrally Mounted Fuel Tank', 'Engine Immobilizer', 'Engine Check Warning', 'Crash Sensor', 'Ebd', 'Anti Theft Device', 'Speed Sensing Auto Door Lock', 'Isofix Child Seat Mounts', 'Pretensioners And Force Limiter Seatbelts', 'Speed Alert', 'No Of Airbags']                                                                            ['Radio', 'Speakers Front', 'Speakers Rear', 'Integrated2Din Audio', 'Usb Auxiliary Input', 'Bluetooth', 'Number Of Speaker']                                                                                   26.08           1462.0           91.19          122.0   16.174093   MUV           40,000             1                 Maruti Ertiga          2021        1100000.0     1.119434e+06  delhi        3\n",
       "                           Petrol     5                Automatic          ['Power Steering', 'Power Windows Front', 'Air Conditioner', 'Heater', 'Adjustable Head Lights', 'Fog Lights Front', 'Anti Lock Braking System', 'Centeral Locking', 'Cd Player']                            ['Power Steering', 'Power Windows Front', 'Power Windows Rear', 'Air Quality Control', 'Remote Trunk Opener', 'Low Fuel Warning Light', 'Accessory Power Outlet', 'Vanity Mirror', 'Rear Seat Headrest', 'Cup Holders Front', 'Multifunction Steering Wheel', 'Cruise Control']                                                                                                                                                                                                                                                                                                           ['Air Conditioner', 'Heater', 'Adjustable Steering', 'Digital Odometer', 'Tachometer', 'Electronic Multi Tripmeter', 'Fabric Upholstery', 'Leather Steering Wheel', 'Glove Compartment', 'Digital Clock', 'Cigarette Lighter']                                                                               ['Adjustable Head Lights', 'Fog Lights Front', 'Fog Lights Rear', 'Power Adjustable Exterior Rear View Mirror', 'Electric Folding Rear View Mirror', 'Rear Window Wiper', 'Rear Window Washer', 'Rear Window Defogger', 'Alloy Wheels', 'Power Antenna', 'Tinted Glass', 'Rear Spoiler', 'Outside Rear View Mirror Turn Indicators']                                                                            ['Anti Lock Braking System', 'Centeral Locking', 'Power Door Locks', 'Child Safety Locks', 'Driver Air Bag', 'Passenger Air Bag', 'Day Night Rear View Mirror', 'Passenger Side Rear View Mirror', 'Halogen Headlamps', 'Rear Seat Belts', 'Seat Belt Warning', 'Door Ajar Warning', 'Side Impact Beams', 'Front Impact Beams', 'Vehicle Stability Control System', 'Adjustable Seats', 'Keyless Entry', 'Centrally Mounted Fuel Tank', 'Engine Immobilizer', 'Crash Sensor', 'Anti Theft Device']                                                                                                                                                                                                                                                    ['Cd Player', 'Radio', 'Speakers Front', 'Speakers Rear']                                                                                                                                                       17.21           1197.0           103.60         175.0   15.000000   Hatchback     50,000             1                 Volkswagen Polo        2015        600000.0      6.240532e+05  hyderabad    3\n",
       "                                      6                Manual             ['Power Steering', 'Power Windows Front', 'Air Conditioner', 'Heater', 'Adjustable Head Lights', 'Fog Lights Front', 'Anti Lock Braking System', 'Brake Assist', 'Radio']                                    ['Power Steering', 'Power Windows Front', 'Power Windows Rear', 'Low Fuel Warning Light', 'Accessory Power Outlet', 'Trunk Light', 'Vanity Mirror', 'Rear Reading Lamp', 'Rear Seat Headrest', 'Rear Seat Centre Arm Rest', 'Height Adjustable Front Seat Belts', 'Cup Holders Front', 'Cup Holders Rear', 'Seat Lumbar Support', 'Multifunction Steering Wheel', 'Cruise Control', 'Rear ACVents', 'Navigation System', 'Smart Access Card Entry', 'Engine Start Stop Button', 'Voice Control', 'Tailgate Ajar', 'Gear Shift Indicator', 'Luggage Hook And Net', 'Adjustable Headrest']  ['Air Conditioner', 'Heater', 'Adjustable Steering', 'Digital Odometer', 'Tachometer', 'Electronic Multi Tripmeter', 'Leather Seats', 'Leather Steering Wheel', 'Glove Compartment', 'Digital Clock', 'Outside Temperature Display', 'Driving Experience Control Eco', 'Height Adjustable Driver Seat']      ['Adjustable Head Lights', 'Fog Lights Front', 'Power Adjustable Exterior Rear View Mirror', 'Electric Folding Rear View Mirror', 'Rear Window Wiper', 'Rear Window Washer', 'Rear Window Defogger', 'Alloy Wheels', 'Power Antenna', 'Rear Spoiler', 'Outside Rear View Mirror Turn Indicators', 'Chrome Grille', 'Chrome Garnish', 'Roof Rail', 'LEDDRLs', 'LEDHeadlights', 'LEDTaillights', 'LEDFog Lamps']  ['Anti Lock Braking System', 'Brake Assist', 'Centeral Locking', 'Power Door Locks', 'Child Safety Locks', 'Anti Theft Alarm', 'Driver Air Bag', 'Passenger Air Bag', 'Day Night Rear View Mirror', 'Passenger Side Rear View Mirror', 'Rear Seat Belts', 'Seat Belt Warning', 'Door Ajar Warning', 'Side Impact Beams', 'Front Impact Beams', 'Adjustable Seats', 'Keyless Entry', 'Centrally Mounted Fuel Tank', 'Engine Immobilizer', 'Engine Check Warning', 'Crash Sensor', 'Automatic Head Lamps', 'Ebd', 'Follow Me Home Headlamps', 'Rear Camera', 'Anti Theft Device', 'Anti Pinch Power Windows', 'Speed Sensing Auto Door Lock', 'Isofix Child Seat Mounts', 'Pretensioners And Force Limiter Seatbelts', 'Speed Alert', 'No Of Airbags']  ['Radio', 'Audio System Remote Control', 'Speakers Front', 'Speakers Rear', 'Integrated2Din Audio', 'Usb Auxiliary Input', 'Bluetooth', 'Touch Screen', 'Number Of Speaker', 'Apple Car Play', 'Android Auto']  19.01           1462.0           103.20         138.0   15.000000   MUV           10,000             2                 Maruti XL6             2021        950000.0      9.853171e+05  kolkata      3\n",
       "                           Diesel     5                Manual             ['Power Steering', 'Power Windows Front', 'Air Conditioner', 'Heater', 'Adjustable Head Lights', 'Fog Lights Rear', 'Centeral Locking', 'Driver Air Bag', 'Radio']                                           ['Power Steering', 'Power Windows Front', 'Remote Trunk Opener', 'Low Fuel Warning Light', 'Accessory Power Outlet', 'Vanity Mirror', 'Rear Seat Headrest', 'Cup Holders Front']                                                                                                                                                                                                                                                                                                                                                                                                          ['Air Conditioner', 'Heater', 'Adjustable Steering', 'Digital Odometer', 'Tachometer', 'Electronic Multi Tripmeter', 'Fabric Upholstery', 'Glove Compartment', 'Digital Clock', 'Height Adjustable Driver Seat']                                                                                             ['Adjustable Head Lights', 'Fog Lights Rear', 'Manually Adjustable Exterior Rear View Mirror', 'Wheel Covers', 'Power Antenna', 'Tinted Glass', 'Rear Spoiler']                                                                                                                                                                                                                                                 ['Centeral Locking', 'Driver Air Bag', 'Passenger Air Bag', 'Day Night Rear View Mirror', 'Passenger Side Rear View Mirror', 'Halogen Headlamps', 'Rear Seat Belts', 'Side Impact Beams', 'Front Impact Beams', 'Adjustable Seats', 'Centrally Mounted Fuel Tank', 'Engine Immobilizer', 'Crash Sensor']                                                                                                                                                                                                                                                                                                                                                                                                                                              ['Radio', 'Speakers Front', 'Speakers Rear']                                                                                                                                                                    22.07           1199.0           73.90          180.0   14.000000   Hatchback     1,00,000           2                 Volkswagen Polo        2010        360000.0      3.870932e+05  bangalore    3\n",
       "                                                                                                                                                                                                                                                                                                                                                                                                                                                                                                                                                                                                                                                                                                                                                                                                                                                                                                                                                                                                                                                                                                                                                                                                                                                                                                                                                                                                                                                                                                                                                                                                                                                                                                                                                                                                                                                                                                                                                                                                                                                                                                                                                                                                                                                                                                                                                                                                                                                                                                                                                                                                                                                                                                                                                                                      ..\n",
       "Comprehensive              Petrol     5                Manual             ['Power Steering', 'Power Windows Front', 'Air Conditioner', 'Heater', 'Adjustable Head Lights', 'Power Adjustable Exterior Rear View Mirror', 'Anti Lock Braking System', 'Centeral Locking', 'Cd Player']  ['Power Steering', 'Power Windows Front', 'Power Windows Rear', 'Remote Trunk Opener', 'Remote Fuel Lid Opener', 'Low Fuel Warning Light', 'Accessory Power Outlet', 'Vanity Mirror', 'Rear Seat Headrest', 'Cup Holders Front', 'Multifunction Steering Wheel']                                                                                                                                                                                                                                                                                                                          ['Air Conditioner', 'Heater', 'Adjustable Steering', 'Digital Odometer', 'Tachometer', 'Electronic Multi Tripmeter', 'Fabric Upholstery', 'Glove Compartment', 'Digital Clock', 'Outside Temperature Display']                                                                                               ['Adjustable Head Lights', 'Power Adjustable Exterior Rear View Mirror', 'Electric Folding Rear View Mirror', 'Rear Window Wiper', 'Rear Window Washer', 'Rear Window Defogger', 'Wheel Covers', 'Integrated Antenna', 'Tinted Glass', 'Rear Spoiler', 'Outside Rear View Mirror Turn Indicators', 'Chrome Grille']                                                                                             ['Anti Lock Braking System', 'Centeral Locking', 'Power Door Locks', 'Child Safety Locks', 'Anti Theft Alarm', 'Driver Air Bag', 'Passenger Air Bag', 'Passenger Side Rear View Mirror', 'Halogen Headlamps', 'Rear Seat Belts', 'Seat Belt Warning', 'Door Ajar Warning', 'Side Impact Beams', 'Front Impact Beams', 'Adjustable Seats', 'Keyless Entry', 'Centrally Mounted Fuel Tank', 'Engine Immobilizer', 'Engine Check Warning', 'Crash Sensor', 'Ebd', 'Anti Theft Device', 'Isofix Child Seat Mounts', 'Pretensioners And Force Limiter Seatbelts']                                                                                                                                                                                          ['Cd Player', 'Radio', 'Speakers Front', 'Speakers Rear', 'Integrated2Din Audio', 'Usb Auxiliary Input', 'Bluetooth', 'Number Of Speaker']                                                                      21.40           1197.0           83.10          115.0   15.737119   Hatchback     70,404             1                 Maruti Baleno          2016        540000.0      5.639688e+05  chennai      1\n",
       "                                                                                                                                                                                                                                                                                                                                                                                                                                                                                                                                                                                                                                                                                                                                                                                                                                                                                                                                                                                                                                                                                                                                                                                                                                                                                                                                                                                                                                                                                                                                                                                                                                                                                                                                                                                                                                                                                                                                                                                                                                                                                                                                                                                                                                                                                                                                                                                                                                                                                                                                                                                                                                                                      54,024             1                 Maruti Baleno          2017        575000.0      5.989688e+05  chennai      1\n",
       "                                                                                                                                                                                                                                                                                                                                                                                                                                                                                                                                                                                                                                                                                                                                                                                                                                                                                                                                                                                                                                                                                                                                                                                                                                                                                                                                                                                                                                                                                                                                                                                                                                                                                                                                                                                                                                                                                                                                                                                                                                                                                                                                                                                                                                                                                                                                                                                                                                                                                                                                                                                                                                            15.683188   Hatchback     75,140             1                 Maruti Baleno          2016        593000.0      6.220000e+05  bangalore    1\n",
       "                                                                                                                                                                                                                                                                                                                                                                                                                                                                                                                                                                                                                                                                                                                                                                                                                                                                                                                                                                                                                                                                                                                                                                                                                                                                                                                                                                                                                                                                                                                                                                                                                                                                                                                                                                                                                                                                                                                                                                                                                                                                                                                                                                                                                                                                                                                                                                                                                                                                                                                                                                                                                                            15.623656   Hatchback     98,074             1                 Maruti Baleno          2016        432000.0      4.890000e+05  kolkata      1\n",
       "Zero Depreciation          Petrol     7                Manual             ['Power Steering', 'Power Windows Front', 'Air Conditioner', 'Heater', 'Adjustable Head Lights', 'Power Adjustable Exterior Rear View Mirror', 'Anti Lock Braking System', 'Centeral Locking', 'Radio']      ['Power Steering', 'Power Windows Front', 'Power Windows Rear', 'Low Fuel Warning Light', 'Accessory Power Outlet', 'Vanity Mirror', 'Rear Reading Lamp', 'Rear Seat Headrest', 'Cup Holders Front', 'Multifunction Steering Wheel', 'Rear ACVents', 'Smart Access Card Entry', 'Engine Start Stop Button', 'Glove Box Cooling', 'Adjustable Headrest', 'Power Boot']                                                                                                                                                                                                                     ['Air Conditioner', 'Heater', 'Adjustable Steering', 'Digital Odometer', 'Tachometer', 'Electronic Multi Tripmeter', 'Fabric Upholstery', 'Glove Compartment', 'Digital Clock', 'Height Adjustable Driver Seat', 'Dual Tone Dashboard']                                                                      ['Adjustable Head Lights', 'Power Adjustable Exterior Rear View Mirror', 'Rear Window Wiper', 'Rear Window Washer', 'Rear Window Defogger', 'Wheel Covers', 'Outside Rear View Mirror Turn Indicators', 'Chrome Grille', 'Roof Rail', 'LEDDRLs', 'Projector Headlamps']                                                                                                                                         ['Anti Lock Braking System', 'Centeral Locking', 'Power Door Locks', 'Child Safety Locks', 'Driver Air Bag', 'Passenger Air Bag', 'Side Air Bag Front', 'Day Night Rear View Mirror', 'Passenger Side Rear View Mirror', 'Rear Seat Belts', 'Seat Belt Warning', 'Adjustable Seats', 'Keyless Entry', 'Engine Immobilizer', 'Engine Check Warning', 'Crash Sensor', 'Ebd', 'Speed Sensing Auto Door Lock', 'Impact Sensing Auto Door Lock', 'Speed Alert']                                                                                                                                                                                                                                                                                            ['Radio', 'Speakers Front', 'Speakers Rear', 'Integrated2Din Audio', 'Usb Auxiliary Input', 'Bluetooth', 'Touch Screen', 'Touch Screen Size']                                                                   20.00           999.0            71.01          96.0    16.174093   MUV           53,400             1                 Renault Triber         2020        620000.0      6.380000e+05  delhi        1\n",
       "Name: count, Length: 8261, dtype: int64"
      ]
     },
     "execution_count": 37,
     "metadata": {},
     "output_type": "execute_result"
    }
   ],
   "source": [
    "combined_df.value_counts()"
   ]
  },
  {
   "cell_type": "code",
   "execution_count": 41,
   "metadata": {},
   "outputs": [
    {
     "name": "stdout",
     "output_type": "stream",
     "text": [
      "['bangalore' 'chennai' 'delhi' 'hyderabad' 'jaipur' 'kolkata']\n"
     ]
    }
   ],
   "source": [
    "print(combined_df['city'].unique())"
   ]
  },
  {
   "cell_type": "code",
   "execution_count": 42,
   "metadata": {},
   "outputs": [],
   "source": [
    "df = combined_df.to_excel(\"../preprocessed_cars/cleaned_entire_dataset.xlsx\")"
   ]
  },
  {
   "cell_type": "code",
   "execution_count": 43,
   "metadata": {},
   "outputs": [],
   "source": [
    "df = pd.read_excel(\"../preprocessed_cars/cleaned_entire_dataset.xlsx\")"
   ]
  },
  {
   "cell_type": "code",
   "execution_count": 47,
   "metadata": {},
   "outputs": [
    {
     "data": {
      "text/plain": [
       "city\n",
       "delhi        1485\n",
       "hyderabad    1483\n",
       "bangalore    1481\n",
       "chennai      1419\n",
       "kolkata      1381\n",
       "jaipur       1120\n",
       "Name: count, dtype: int64"
      ]
     },
     "execution_count": 47,
     "metadata": {},
     "output_type": "execute_result"
    }
   ],
   "source": [
    "df.city.value_counts()"
   ]
  },
  {
   "cell_type": "code",
   "execution_count": null,
   "metadata": {},
   "outputs": [],
   "source": []
  }
 ],
 "metadata": {
  "kernelspec": {
   "display_name": "venv",
   "language": "python",
   "name": "python3"
  },
  "language_info": {
   "codemirror_mode": {
    "name": "ipython",
    "version": 3
   },
   "file_extension": ".py",
   "mimetype": "text/x-python",
   "name": "python",
   "nbconvert_exporter": "python",
   "pygments_lexer": "ipython3",
   "version": "3.12.3"
  }
 },
 "nbformat": 4,
 "nbformat_minor": 2
}
